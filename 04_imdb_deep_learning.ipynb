{
 "cells": [
  {
   "cell_type": "markdown",
   "metadata": {},
   "source": [
    "<div align=\"center\">\n",
    "<a href=\"https://vbti.nl\"><img src=\"./vbti_logo.png\" width=\"400\"></a>\n",
    "</div>\n",
    "\n",
    "# IMBD - Deep Learning\n",
    "\n",
    "In this notebook we continue with the IMDB dataset and start building deep learning models to predict the movie score.\n",
    "\n",
    "It contains the following sections:\n",
    " 1. Converting the reviews to word embeddings, again, with the `Word2Vec` class.\n",
    " 2. We will build, train and evaluate three different architectures:\n",
    "  - A Multilayer perceptron, this is (as discussed in the masterclass) the most basic neural network.\n",
    "  - A 1D dimensional convolutional neural network (CNN).\n",
    "  - A simple recurrent neural network.\n",
    "  - A LSTM.\n",
    "  - A bidirectional LSTM.\n",
    "    \n",
    "    Al these networks are build with the package `keras`."
   ]
  },
  {
   "cell_type": "code",
   "execution_count": 1,
   "metadata": {},
   "outputs": [],
   "source": [
    "# load some common libraries\n",
    "import numpy as np\n",
    "import pandas as pd\n",
    "import matplotlib.pyplot as plt"
   ]
  },
  {
   "cell_type": "code",
   "execution_count": 2,
   "metadata": {},
   "outputs": [],
   "source": [
    "def download_file(url, path):\n",
    "    \"\"\"\n",
    "    Download file and save it to the defined location\n",
    "    \n",
    "    https://stackoverflow.com/questions/37573483/progress-bar-while-download-file-over-http-with-requests/37573701\n",
    "    \"\"\"\n",
    "    import requests\n",
    "    from tqdm.notebook import tqdm\n",
    "    import os\n",
    "    \n",
    "    \n",
    "    if os.path.exists(path):\n",
    "        print('File \"{}\" already exists. Skipping download.'.format(path))\n",
    "        return\n",
    "    \n",
    "    response = requests.get(url, stream=True)\n",
    "    total_size_in_bytes= int(response.headers.get('content-length', 0))\n",
    "    block_size = 1024 #1 Kibibyte\n",
    "    progress_bar = tqdm(total=total_size_in_bytes, unit='iB', unit_scale=True)\n",
    "    with open(path, 'wb') as file:\n",
    "        for data in response.iter_content(block_size):\n",
    "            progress_bar.update(len(data))\n",
    "            file.write(data)\n",
    "    progress_bar.close()\n",
    "    if total_size_in_bytes != 0 and progress_bar.n != total_size_in_bytes:\n",
    "        print(\"ERROR, something went wrong\")"
   ]
  },
  {
   "cell_type": "code",
   "execution_count": 3,
   "metadata": {},
   "outputs": [
    {
     "name": "stdout",
     "output_type": "stream",
     "text": [
      "File \"train_data.pickle\" already exists. Skipping download.\n",
      "File \"test_data.pickle\" already exists. Skipping download.\n"
     ]
    }
   ],
   "source": [
    "# read pickle files\n",
    "import pickle\n",
    "\n",
    "\n",
    "download_file('https://github.com/illyakaynov/masterclass-nlp/blob/master/Case-IMBD_reviews/train_data.pickle?raw=true',\n",
    "             path='train_data.pickle')\n",
    "\n",
    "download_file('https://github.com/illyakaynov/masterclass-nlp/blob/master/Case-IMBD_reviews/test_data.pickle?raw=true',\n",
    "             path='test_data.pickle')\n",
    "\n",
    "\n",
    "filename = './train_data.pickle'\n",
    "with open(filename, 'rb') as file_object:\n",
    "    train_data = pickle.load(file_object)\n",
    "    \n",
    "filename = './test_data.pickle'\n",
    "with open(filename, 'rb') as file_object:\n",
    "    test_data = pickle.load(file_object)    "
   ]
  },
  {
   "cell_type": "markdown",
   "metadata": {},
   "source": [
    "# Word2vec"
   ]
  },
  {
   "cell_type": "code",
   "execution_count": 4,
   "metadata": {},
   "outputs": [],
   "source": [
    "# prepare data for gensim\n",
    "# data needs to be presented as a list of list of words\n",
    "sentences = []\n",
    "for review in train_data[0]:\n",
    "    sentences.append(review.split(' '))"
   ]
  },
  {
   "cell_type": "code",
   "execution_count": 5,
   "metadata": {},
   "outputs": [],
   "source": [
    "# vector-space embedding\n",
    "n_embed_dim = 128\n",
    "n_context = 3\n",
    "\n",
    "# (maximum) size of review as input for deep nn model\n",
    "n_input_dim = 100"
   ]
  },
  {
   "cell_type": "code",
   "execution_count": 6,
   "metadata": {},
   "outputs": [
    {
     "name": "stdout",
     "output_type": "stream",
     "text": [
      "Requirement already satisfied: gensim in c:\\users\\ikayn\\anaconda3\\lib\\site-packages (3.8.3)\n",
      "Requirement already satisfied: numpy>=1.11.3 in c:\\users\\ikayn\\anaconda3\\lib\\site-packages (from gensim) (1.18.5)\n",
      "Requirement already satisfied: six>=1.5.0 in c:\\users\\ikayn\\anaconda3\\lib\\site-packages (from gensim) (1.15.0)\n",
      "Requirement already satisfied: smart-open>=1.8.1 in c:\\users\\ikayn\\anaconda3\\lib\\site-packages (from gensim) (4.1.0)\n",
      "Requirement already satisfied: scipy>=0.18.1 in c:\\users\\ikayn\\anaconda3\\lib\\site-packages (from gensim) (1.5.0)\n",
      "Requirement already satisfied: Cython==0.29.14 in c:\\users\\ikayn\\anaconda3\\lib\\site-packages (from gensim) (0.29.14)\n"
     ]
    }
   ],
   "source": [
    "!pip install gensim"
   ]
  },
  {
   "cell_type": "code",
   "execution_count": 7,
   "metadata": {},
   "outputs": [],
   "source": [
    "from gensim.models.word2vec import Word2Vec\n",
    "\n",
    "model_w2v = Word2Vec(sentences, size=n_embed_dim, window=n_context, min_count=10, workers=4)\n",
    "model_w2v.init_sims(replace=True)"
   ]
  },
  {
   "cell_type": "code",
   "execution_count": 8,
   "metadata": {},
   "outputs": [],
   "source": [
    "def featurize_w2v_dl(model_w2v, sentences, n_input_dim, n_embed_dim):\n",
    "    n_train_samples = len(sentences)\n",
    "    wv = np.zeros((n_train_samples, n_input_dim, n_embed_dim))\n",
    "\n",
    "    for i in range(n_train_samples):\n",
    "        sentence = sentences[i]\n",
    "        n_words = len(sentence)\n",
    "\n",
    "        if n_words > n_input_dim:\n",
    "            for j, w in enumerate(sentence[0:n_input_dim]):\n",
    "                try:\n",
    "                    vec = model_w2v.wv[w]\n",
    "                    wv[i,j,:] = vec\n",
    "                except KeyError:\n",
    "                    continue\n",
    "        else:\n",
    "            start = (n_input_dim - n_words) // 2\n",
    "            for j, w in enumerate(sentence[0:n_input_dim]):\n",
    "                try:\n",
    "                    vec = model_w2v.wv[w]\n",
    "                    wv[i,start+j,:] = vec\n",
    "                except KeyError:\n",
    "                    continue\n",
    "    return wv"
   ]
  },
  {
   "cell_type": "code",
   "execution_count": 9,
   "metadata": {},
   "outputs": [],
   "source": [
    "X_train = featurize_w2v_dl(model_w2v, sentences, n_input_dim, n_embed_dim)\n",
    "y_train = np.array(train_data[1])"
   ]
  },
  {
   "cell_type": "code",
   "execution_count": 10,
   "metadata": {},
   "outputs": [
    {
     "data": {
      "text/plain": [
       "(25000, 100, 128)"
      ]
     },
     "execution_count": 10,
     "metadata": {},
     "output_type": "execute_result"
    }
   ],
   "source": [
    "X_train.shape"
   ]
  },
  {
   "cell_type": "code",
   "execution_count": 11,
   "metadata": {},
   "outputs": [],
   "source": [
    "sentences = []\n",
    "for review in test_data[0]:\n",
    "    sentences.append(review.split(' '))\n",
    "X_test = featurize_w2v_dl(model_w2v, sentences, n_input_dim, n_embed_dim)\n",
    "y_test = np.array(test_data[1])"
   ]
  },
  {
   "cell_type": "markdown",
   "metadata": {},
   "source": [
    "# Model building\n",
    "\n",
    "Define some handy utility functions to plot model performance."
   ]
  },
  {
   "cell_type": "code",
   "execution_count": 12,
   "metadata": {},
   "outputs": [],
   "source": [
    "import matplotlib.pyplot as plt\n",
    "import itertools\n",
    "from sklearn.metrics import confusion_matrix\n",
    "\n",
    "def plot_confusion_matrix(cm, \n",
    "                          classes,\n",
    "                          normalize=False,\n",
    "                          title='Confusion matrix',\n",
    "                          cmap=plt.cm.Blues,\n",
    "                          ax=None,\n",
    "                          figsize=(8,8)):\n",
    "    \"\"\"\n",
    "    This function prints and plots the confusion matrix.\n",
    "    Normalization can be applied by setting `normalize=True`.\n",
    "    \"\"\"\n",
    "    if ax==None:\n",
    "        _, ax = plt.subplot(1, 1, figsize=figsize)\n",
    "        \n",
    "    if normalize:\n",
    "        cm = cm.astype('float') / cm.sum(axis=1)[:, np.newaxis]\n",
    "\n",
    "    ax.imshow(cm, interpolation='nearest', cmap=cmap)\n",
    "    ax.set_title(title, pad=20)\n",
    "    #plt.colorbar()\n",
    "    tick_marks = np.arange(len(classes))\n",
    "    ax.set_xticks(tick_marks)\n",
    "    ax.set_xticklabels(classes)\n",
    "    ax.tick_params(axis='x', rotation=90)\n",
    "    ax.set_yticks(tick_marks)\n",
    "    ax.set_yticklabels(classes)\n",
    "    ax.grid(False)\n",
    "\n",
    "    fmt = '.2f' if normalize else 'd'\n",
    "    thresh = cm.max() / 2.\n",
    "    for i, j in itertools.product(range(cm.shape[0]), range(cm.shape[1])):\n",
    "        ax.text(j, i, \n",
    "                format(cm[i, j], fmt),\n",
    "                ha=\"center\",\n",
    "                va=\"center\",\n",
    "                color=\"white\" if cm[i, j] > thresh else \"black\")\n",
    "\n",
    "    ax.set_ylabel('True label')\n",
    "    ax.set_xlabel('Predicted label')    \n",
    "    ax.set_ylim((len(classes) - 0.5, -0.5))\n",
    "\n",
    "    \n",
    "def accuracy(y, y_pred):\n",
    "    return np.mean(y==y_pred)\n",
    "\n",
    "\n",
    "def plot_model_performance(model, X_train, y_train, X_test, y_test, label_names, figsize=(8,6)):\n",
    "    \"\"\"Support function for quickly plotting model performance.\"\"\"\n",
    "    fig, axs = plt.subplots(1, 2, figsize=figsize)\n",
    "    axs.ravel()\n",
    "\n",
    "    y_train_pred = model.predict(X_train)\n",
    "    y_train_pred = (y_train_pred > 0.5).flatten()\n",
    "    cm_train = confusion_matrix(y_train, y_train_pred)\n",
    "    plot_confusion_matrix(cm_train, \n",
    "                          list(label_names), \n",
    "                          title='Training - accuracy: {:.2f}'.format(accuracy(y_train, y_train_pred)),\n",
    "                          ax=axs[0])\n",
    "\n",
    "    y_test_pred = model.predict(X_test)\n",
    "    y_test_pred = (y_test_pred > 0.5).flatten()\n",
    "    cm_test = confusion_matrix(y_test, y_test_pred)\n",
    "    plot_confusion_matrix(cm_test, \n",
    "                          list(label_names), \n",
    "                          title='Test - accuracy: {:.2f}'.format(accuracy(y_test, y_test_pred)),\n",
    "                          ax=axs[1])\n",
    "\n",
    "    plt.tight_layout()    "
   ]
  },
  {
   "cell_type": "markdown",
   "metadata": {},
   "source": [
    "## Multi Layer Perceptron"
   ]
  },
  {
   "cell_type": "code",
   "execution_count": 13,
   "metadata": {},
   "outputs": [],
   "source": [
    "# # select GPU on VBTI server\n",
    "# import os\n",
    "# GPU = \"1\"\n",
    "# os.environ[\"CUDA_VISIBLE_DEVICES\"] = GPU"
   ]
  },
  {
   "cell_type": "code",
   "execution_count": 14,
   "metadata": {},
   "outputs": [
    {
     "name": "stdout",
     "output_type": "stream",
     "text": [
      "Requirement already satisfied: tensorflow in c:\\users\\ikayn\\anaconda3\\lib\\site-packages (2.3.1)\n",
      "Requirement already satisfied: absl-py>=0.7.0 in c:\\users\\ikayn\\anaconda3\\lib\\site-packages (from tensorflow) (0.11.0)\n",
      "Requirement already satisfied: astunparse==1.6.3 in c:\\users\\ikayn\\anaconda3\\lib\\site-packages (from tensorflow) (1.6.3)\n",
      "Requirement already satisfied: opt-einsum>=2.3.2 in c:\\users\\ikayn\\anaconda3\\lib\\site-packages (from tensorflow) (3.3.0)\n",
      "Requirement already satisfied: protobuf>=3.9.2 in c:\\users\\ikayn\\anaconda3\\lib\\site-packages (from tensorflow) (3.14.0)\n",
      "Requirement already satisfied: numpy<1.19.0,>=1.16.0 in c:\\users\\ikayn\\anaconda3\\lib\\site-packages (from tensorflow) (1.18.5)\n",
      "Requirement already satisfied: termcolor>=1.1.0 in c:\\users\\ikayn\\anaconda3\\lib\\site-packages (from tensorflow) (1.1.0)\n",
      "Requirement already satisfied: six>=1.12.0 in c:\\users\\ikayn\\anaconda3\\lib\\site-packages (from tensorflow) (1.15.0)\n",
      "Requirement already satisfied: grpcio>=1.8.6 in c:\\users\\ikayn\\anaconda3\\lib\\site-packages (from tensorflow) (1.33.2)\n",
      "Requirement already satisfied: wrapt>=1.11.1 in c:\\users\\ikayn\\anaconda3\\lib\\site-packages (from tensorflow) (1.11.2)\n",
      "Requirement already satisfied: h5py<2.11.0,>=2.10.0 in c:\\users\\ikayn\\anaconda3\\lib\\site-packages (from tensorflow) (2.10.0)\n",
      "Requirement already satisfied: wheel>=0.26 in c:\\users\\ikayn\\anaconda3\\lib\\site-packages (from tensorflow) (0.34.2)\n",
      "Requirement already satisfied: gast==0.3.3 in c:\\users\\ikayn\\anaconda3\\lib\\site-packages (from tensorflow) (0.3.3)\n",
      "Requirement already satisfied: tensorflow-estimator<2.4.0,>=2.3.0 in c:\\users\\ikayn\\anaconda3\\lib\\site-packages (from tensorflow) (2.3.0)\n",
      "Requirement already satisfied: tensorboard<3,>=2.3.0 in c:\\users\\ikayn\\anaconda3\\lib\\site-packages (from tensorflow) (2.4.0)\n",
      "Requirement already satisfied: keras-preprocessing<1.2,>=1.1.1 in c:\\users\\ikayn\\anaconda3\\lib\\site-packages (from tensorflow) (1.1.2)\n",
      "Requirement already satisfied: google-pasta>=0.1.8 in c:\\users\\ikayn\\anaconda3\\lib\\site-packages (from tensorflow) (0.2.0)\n",
      "Requirement already satisfied: markdown>=2.6.8 in c:\\users\\ikayn\\anaconda3\\lib\\site-packages (from tensorboard<3,>=2.3.0->tensorflow) (3.3.3)\n",
      "Requirement already satisfied: requests<3,>=2.21.0 in c:\\users\\ikayn\\anaconda3\\lib\\site-packages (from tensorboard<3,>=2.3.0->tensorflow) (2.24.0)\n",
      "Requirement already satisfied: setuptools>=41.0.0 in c:\\users\\ikayn\\anaconda3\\lib\\site-packages (from tensorboard<3,>=2.3.0->tensorflow) (49.2.0.post20200714)\n",
      "Requirement already satisfied: tensorboard-plugin-wit>=1.6.0 in c:\\users\\ikayn\\anaconda3\\lib\\site-packages (from tensorboard<3,>=2.3.0->tensorflow) (1.7.0)\n",
      "Requirement already satisfied: google-auth-oauthlib<0.5,>=0.4.1 in c:\\users\\ikayn\\anaconda3\\lib\\site-packages (from tensorboard<3,>=2.3.0->tensorflow) (0.4.2)\n",
      "Requirement already satisfied: werkzeug>=0.11.15 in c:\\users\\ikayn\\anaconda3\\lib\\site-packages (from tensorboard<3,>=2.3.0->tensorflow) (1.0.1)\n",
      "Requirement already satisfied: google-auth<2,>=1.6.3 in c:\\users\\ikayn\\anaconda3\\lib\\site-packages (from tensorboard<3,>=2.3.0->tensorflow) (1.23.0)\n",
      "Requirement already satisfied: chardet<4,>=3.0.2 in c:\\users\\ikayn\\anaconda3\\lib\\site-packages (from requests<3,>=2.21.0->tensorboard<3,>=2.3.0->tensorflow) (3.0.4)\n",
      "Requirement already satisfied: urllib3!=1.25.0,!=1.25.1,<1.26,>=1.21.1 in c:\\users\\ikayn\\anaconda3\\lib\\site-packages (from requests<3,>=2.21.0->tensorboard<3,>=2.3.0->tensorflow) (1.25.9)\n",
      "Requirement already satisfied: certifi>=2017.4.17 in c:\\users\\ikayn\\anaconda3\\lib\\site-packages (from requests<3,>=2.21.0->tensorboard<3,>=2.3.0->tensorflow) (2020.6.20)\n",
      "Requirement already satisfied: idna<3,>=2.5 in c:\\users\\ikayn\\anaconda3\\lib\\site-packages (from requests<3,>=2.21.0->tensorboard<3,>=2.3.0->tensorflow) (2.10)\n",
      "Requirement already satisfied: requests-oauthlib>=0.7.0 in c:\\users\\ikayn\\anaconda3\\lib\\site-packages (from google-auth-oauthlib<0.5,>=0.4.1->tensorboard<3,>=2.3.0->tensorflow) (1.3.0)\n",
      "Requirement already satisfied: cachetools<5.0,>=2.0.0 in c:\\users\\ikayn\\anaconda3\\lib\\site-packages (from google-auth<2,>=1.6.3->tensorboard<3,>=2.3.0->tensorflow) (4.1.1)\n",
      "Requirement already satisfied: pyasn1-modules>=0.2.1 in c:\\users\\ikayn\\anaconda3\\lib\\site-packages (from google-auth<2,>=1.6.3->tensorboard<3,>=2.3.0->tensorflow) (0.2.8)\n",
      "Requirement already satisfied: rsa<5,>=3.1.4; python_version >= \"3.5\" in c:\\users\\ikayn\\anaconda3\\lib\\site-packages (from google-auth<2,>=1.6.3->tensorboard<3,>=2.3.0->tensorflow) (4.6)\n",
      "Requirement already satisfied: oauthlib>=3.0.0 in c:\\users\\ikayn\\anaconda3\\lib\\site-packages (from requests-oauthlib>=0.7.0->google-auth-oauthlib<0.5,>=0.4.1->tensorboard<3,>=2.3.0->tensorflow) (3.1.0)\n",
      "Requirement already satisfied: pyasn1<0.5.0,>=0.4.6 in c:\\users\\ikayn\\anaconda3\\lib\\site-packages (from pyasn1-modules>=0.2.1->google-auth<2,>=1.6.3->tensorboard<3,>=2.3.0->tensorflow) (0.4.8)\n"
     ]
    }
   ],
   "source": [
    "!pip install tensorflow"
   ]
  },
  {
   "cell_type": "code",
   "execution_count": 15,
   "metadata": {},
   "outputs": [
    {
     "name": "stdout",
     "output_type": "stream",
     "text": [
      "Requirement already satisfied: keras in c:\\users\\ikayn\\anaconda3\\lib\\site-packages (2.4.3)\n",
      "Requirement already satisfied: scipy>=0.14 in c:\\users\\ikayn\\anaconda3\\lib\\site-packages (from keras) (1.5.0)\n",
      "Requirement already satisfied: pyyaml in c:\\users\\ikayn\\anaconda3\\lib\\site-packages (from keras) (5.3.1)\n",
      "Requirement already satisfied: numpy>=1.9.1 in c:\\users\\ikayn\\anaconda3\\lib\\site-packages (from keras) (1.18.5)\n",
      "Requirement already satisfied: h5py in c:\\users\\ikayn\\anaconda3\\lib\\site-packages (from keras) (2.10.0)\n",
      "Requirement already satisfied: six in c:\\users\\ikayn\\anaconda3\\lib\\site-packages (from h5py->keras) (1.15.0)\n"
     ]
    }
   ],
   "source": [
    "!pip install keras"
   ]
  },
  {
   "cell_type": "code",
   "execution_count": 16,
   "metadata": {},
   "outputs": [],
   "source": [
    "import tensorflow\n",
    "import keras\n",
    "\n",
    "n_dense = 256\n",
    "dropout = 0.2\n",
    "\n",
    "batch_size = 64\n",
    "epochs = 10"
   ]
  },
  {
   "cell_type": "code",
   "execution_count": 17,
   "metadata": {},
   "outputs": [],
   "source": [
    "from keras.models import Sequential\n",
    "from keras.layers import Flatten, Dense, Dropout\n",
    "\n",
    "model = Sequential()\n",
    "model.add(Flatten(input_shape=(n_input_dim, n_embed_dim)))\n",
    "model.add(Dense(n_dense, activation='relu'))\n",
    "model.add(Dropout(dropout))\n",
    "model.add(Dense(1, activation='sigmoid'))\n",
    "\n",
    "model.compile(loss='binary_crossentropy', optimizer='adam', metrics=['accuracy'])"
   ]
  },
  {
   "cell_type": "code",
   "execution_count": 18,
   "metadata": {},
   "outputs": [
    {
     "name": "stdout",
     "output_type": "stream",
     "text": [
      "Model: \"sequential\"\n",
      "_________________________________________________________________\n",
      "Layer (type)                 Output Shape              Param #   \n",
      "=================================================================\n",
      "flatten (Flatten)            (None, 12800)             0         \n",
      "_________________________________________________________________\n",
      "dense (Dense)                (None, 256)               3277056   \n",
      "_________________________________________________________________\n",
      "dropout (Dropout)            (None, 256)               0         \n",
      "_________________________________________________________________\n",
      "dense_1 (Dense)              (None, 1)                 257       \n",
      "=================================================================\n",
      "Total params: 3,277,313\n",
      "Trainable params: 3,277,313\n",
      "Non-trainable params: 0\n",
      "_________________________________________________________________\n"
     ]
    }
   ],
   "source": [
    "model.summary()"
   ]
  },
  {
   "cell_type": "code",
   "execution_count": 19,
   "metadata": {},
   "outputs": [
    {
     "name": "stdout",
     "output_type": "stream",
     "text": [
      "Epoch 1/10\n",
      "391/391 [==============================] - 7s 17ms/step - loss: 0.4630 - accuracy: 0.7798 - val_loss: 0.4263 - val_accuracy: 0.8030\n",
      "Epoch 2/10\n",
      "391/391 [==============================] - 6s 15ms/step - loss: 0.3556 - accuracy: 0.8444 - val_loss: 0.4501 - val_accuracy: 0.7882\n",
      "Epoch 3/10\n",
      "391/391 [==============================] - 7s 17ms/step - loss: 0.2747 - accuracy: 0.8826 - val_loss: 0.4665 - val_accuracy: 0.7926\n",
      "Epoch 4/10\n",
      "391/391 [==============================] - 6s 15ms/step - loss: 0.1725 - accuracy: 0.9369 - val_loss: 0.5455 - val_accuracy: 0.7900\n",
      "Epoch 5/10\n",
      "391/391 [==============================] - 6s 15ms/step - loss: 0.0769 - accuracy: 0.9799 - val_loss: 0.6299 - val_accuracy: 0.7891\n",
      "Epoch 6/10\n",
      "391/391 [==============================] - 6s 15ms/step - loss: 0.0276 - accuracy: 0.9966 - val_loss: 0.7349 - val_accuracy: 0.7859\n",
      "Epoch 7/10\n",
      "391/391 [==============================] - 6s 15ms/step - loss: 0.0133 - accuracy: 0.9990 - val_loss: 0.8301 - val_accuracy: 0.7835\n",
      "Epoch 8/10\n",
      "391/391 [==============================] - 6s 15ms/step - loss: 0.0072 - accuracy: 0.9997 - val_loss: 0.8789 - val_accuracy: 0.7865\n",
      "Epoch 9/10\n",
      "391/391 [==============================] - 6s 15ms/step - loss: 0.0045 - accuracy: 0.9998 - val_loss: 0.9538 - val_accuracy: 0.7875\n",
      "Epoch 10/10\n",
      "391/391 [==============================] - 6s 15ms/step - loss: 0.0058 - accuracy: 0.9992 - val_loss: 0.9412 - val_accuracy: 0.7856\n"
     ]
    },
    {
     "data": {
      "text/plain": [
       "<tensorflow.python.keras.callbacks.History at 0x27bdd536520>"
      ]
     },
     "execution_count": 19,
     "metadata": {},
     "output_type": "execute_result"
    }
   ],
   "source": [
    "model.fit(X_train, y_train, batch_size=batch_size, epochs=epochs, verbose=1, validation_data=(X_test, y_test))"
   ]
  },
  {
   "cell_type": "code",
   "execution_count": 20,
   "metadata": {},
   "outputs": [
    {
     "data": {
      "image/png": "[encoded data removed]",
      "text/plain": [
       "<Figure size 576x432 with 2 Axes>"
      ]
     },
     "metadata": {
      "needs_background": "light"
     },
     "output_type": "display_data"
    }
   ],
   "source": [
    "plot_model_performance(model, X_train, y_train, X_test, y_test, ['negative', 'positive'])"
   ]
  },
  {
   "cell_type": "markdown",
   "metadata": {},
   "source": [
    "# 1D Convolutional Neural Network"
   ]
  },
  {
   "cell_type": "code",
   "execution_count": 21,
   "metadata": {},
   "outputs": [],
   "source": [
    "n_kernels = 256\n",
    "kernel_size = 3\n",
    "\n",
    "n_dense = 256\n",
    "dropout = 0.2\n",
    "\n",
    "batch_size = 64\n",
    "epochs = 10"
   ]
  },
  {
   "cell_type": "code",
   "execution_count": 22,
   "metadata": {},
   "outputs": [],
   "source": [
    "from keras.models import Sequential\n",
    "from keras.layers import Conv1D, GlobalMaxPooling1D\n",
    "from keras.layers import Dense, Dropout\n",
    "\n",
    "model = Sequential()\n",
    "\n",
    "model.add(Conv1D(n_kernels, kernel_size, activation='relu', input_shape=(n_input_dim, n_embed_dim)))\n",
    "model.add(GlobalMaxPooling1D())\n",
    "model.add(Dense(n_dense, activation='relu'))\n",
    "model.add(Dropout(dropout))\n",
    "model.add(Dense(1, activation='sigmoid'))\n",
    "\n",
    "model.compile(loss='binary_crossentropy', optimizer='adam', metrics=['accuracy'])"
   ]
  },
  {
   "cell_type": "code",
   "execution_count": 23,
   "metadata": {},
   "outputs": [
    {
     "name": "stdout",
     "output_type": "stream",
     "text": [
      "Model: \"sequential_1\"\n",
      "_________________________________________________________________\n",
      "Layer (type)                 Output Shape              Param #   \n",
      "=================================================================\n",
      "conv1d (Conv1D)              (None, 98, 256)           98560     \n",
      "_________________________________________________________________\n",
      "global_max_pooling1d (Global (None, 256)               0         \n",
      "_________________________________________________________________\n",
      "dense_2 (Dense)              (None, 256)               65792     \n",
      "_________________________________________________________________\n",
      "dropout_1 (Dropout)          (None, 256)               0         \n",
      "_________________________________________________________________\n",
      "dense_3 (Dense)              (None, 1)                 257       \n",
      "=================================================================\n",
      "Total params: 164,609\n",
      "Trainable params: 164,609\n",
      "Non-trainable params: 0\n",
      "_________________________________________________________________\n"
     ]
    }
   ],
   "source": [
    "model.summary()"
   ]
  },
  {
   "cell_type": "code",
   "execution_count": 24,
   "metadata": {},
   "outputs": [
    {
     "name": "stdout",
     "output_type": "stream",
     "text": [
      "Epoch 1/10\n",
      "391/391 [==============================] - 9s 23ms/step - loss: 0.4045 - accuracy: 0.8126 - val_loss: 0.3542 - val_accuracy: 0.8439\n",
      "Epoch 2/10\n",
      "391/391 [==============================] - 7s 19ms/step - loss: 0.3071 - accuracy: 0.8678 - val_loss: 0.3798 - val_accuracy: 0.8320\n",
      "Epoch 3/10\n",
      "391/391 [==============================] - 7s 19ms/step - loss: 0.2567 - accuracy: 0.8931 - val_loss: 0.3427 - val_accuracy: 0.8554\n",
      "Epoch 4/10\n",
      "391/391 [==============================] - 8s 20ms/step - loss: 0.2124 - accuracy: 0.9155 - val_loss: 0.3538 - val_accuracy: 0.8556\n",
      "Epoch 5/10\n",
      "391/391 [==============================] - 8s 21ms/step - loss: 0.1515 - accuracy: 0.9448 - val_loss: 0.3823 - val_accuracy: 0.8511\n",
      "Epoch 6/10\n",
      "391/391 [==============================] - 9s 22ms/step - loss: 0.1053 - accuracy: 0.9627 - val_loss: 0.4242 - val_accuracy: 0.8528\n",
      "Epoch 7/10\n",
      "391/391 [==============================] - 8s 21ms/step - loss: 0.0634 - accuracy: 0.9795 - val_loss: 0.5743 - val_accuracy: 0.8355\n",
      "Epoch 8/10\n",
      "391/391 [==============================] - 8s 22ms/step - loss: 0.0401 - accuracy: 0.9874 - val_loss: 0.8248 - val_accuracy: 0.8108\n",
      "Epoch 9/10\n",
      "391/391 [==============================] - 8s 21ms/step - loss: 0.0261 - accuracy: 0.9922 - val_loss: 0.6582 - val_accuracy: 0.8465\n",
      "Epoch 10/10\n",
      "391/391 [==============================] - 8s 21ms/step - loss: 0.0104 - accuracy: 0.9985 - val_loss: 0.6753 - val_accuracy: 0.8508\n"
     ]
    },
    {
     "data": {
      "text/plain": [
       "<tensorflow.python.keras.callbacks.History at 0x27c35140220>"
      ]
     },
     "execution_count": 24,
     "metadata": {},
     "output_type": "execute_result"
    }
   ],
   "source": [
    "model.fit(X_train, y_train, batch_size=batch_size, epochs=epochs, verbose=1, validation_data=(X_test, y_test))"
   ]
  },
  {
   "cell_type": "code",
   "execution_count": 25,
   "metadata": {},
   "outputs": [
    {
     "data": {
      "text/plain": [
       "array([[1.]], dtype=float32)"
      ]
     },
     "execution_count": 25,
     "metadata": {},
     "output_type": "execute_result"
    }
   ],
   "source": [
    "x = featurize_w2v_dl(model_w2v, ['nice movie and i really liked the end'.split()], n_input_dim, n_embed_dim)\n",
    "model.predict(x)"
   ]
  },
  {
   "cell_type": "code",
   "execution_count": 26,
   "metadata": {},
   "outputs": [
    {
     "data": {
      "text/plain": [
       "array([[5.956034e-11]], dtype=float32)"
      ]
     },
     "execution_count": 26,
     "metadata": {},
     "output_type": "execute_result"
    }
   ],
   "source": [
    "x = featurize_w2v_dl(model_w2v, ['this was a waste of time a terrible movie'.split()], n_input_dim, n_embed_dim)\n",
    "model.predict(x)"
   ]
  },
  {
   "cell_type": "code",
   "execution_count": 27,
   "metadata": {},
   "outputs": [
    {
     "data": {
      "image/png": "[encoded data removed]",
      "text/plain": [
       "<Figure size 576x432 with 2 Axes>"
      ]
     },
     "metadata": {
      "needs_background": "light"
     },
     "output_type": "display_data"
    }
   ],
   "source": [
    "plot_model_performance(model, X_train, y_train, X_test, y_test, ['negative', 'positive'])"
   ]
  },
  {
   "cell_type": "markdown",
   "metadata": {},
   "source": [
    "# Recurrent Neural Networks\n",
    "\n",
    "## Simple RNN"
   ]
  },
  {
   "cell_type": "code",
   "execution_count": 28,
   "metadata": {},
   "outputs": [],
   "source": [
    "# parameters\n",
    "epochs = 10\n",
    "batch_size = 128\n",
    "\n",
    "n_rnn = 256\n",
    "drop_rnn = 0.2"
   ]
  },
  {
   "cell_type": "code",
   "execution_count": 29,
   "metadata": {},
   "outputs": [],
   "source": [
    "from keras.models import Sequential\n",
    "from keras.layers import SimpleRNN, Dense\n",
    "\n",
    "model = Sequential()\n",
    "\n",
    "model.add(SimpleRNN(n_rnn, dropout=drop_rnn, activation='relu', input_shape=(None, n_embed_dim)))\n",
    "model.add(Dense(1, activation='sigmoid'))\n",
    "\n",
    "model.compile(loss='binary_crossentropy', optimizer='adam', metrics=['accuracy'])"
   ]
  },
  {
   "cell_type": "code",
   "execution_count": 30,
   "metadata": {},
   "outputs": [
    {
     "name": "stdout",
     "output_type": "stream",
     "text": [
      "Model: \"sequential_2\"\n",
      "_________________________________________________________________\n",
      "Layer (type)                 Output Shape              Param #   \n",
      "=================================================================\n",
      "simple_rnn (SimpleRNN)       (None, 256)               98560     \n",
      "_________________________________________________________________\n",
      "dense_4 (Dense)              (None, 1)                 257       \n",
      "=================================================================\n",
      "Total params: 98,817\n",
      "Trainable params: 98,817\n",
      "Non-trainable params: 0\n",
      "_________________________________________________________________\n"
     ]
    }
   ],
   "source": [
    "model.summary()"
   ]
  },
  {
   "cell_type": "code",
   "execution_count": 31,
   "metadata": {},
   "outputs": [
    {
     "name": "stdout",
     "output_type": "stream",
     "text": [
      "Epoch 1/10\n",
      "196/196 [==============================] - 19s 96ms/step - loss: 0.6437 - accuracy: 0.6258 - val_loss: 0.6839 - val_accuracy: 0.5458\n",
      "Epoch 2/10\n",
      "196/196 [==============================] - 18s 93ms/step - loss: 0.8109 - accuracy: 0.5684 - val_loss: 0.6951 - val_accuracy: 0.5008\n",
      "Epoch 3/10\n",
      "196/196 [==============================] - 18s 92ms/step - loss: 0.7041 - accuracy: 0.5223 - val_loss: 0.6907 - val_accuracy: 0.5089\n",
      "Epoch 4/10\n",
      "196/196 [==============================] - 18s 93ms/step - loss: 0.6870 - accuracy: 0.5280 - val_loss: 0.6766 - val_accuracy: 0.5449\n",
      "Epoch 5/10\n",
      "196/196 [==============================] - 18s 94ms/step - loss: 0.7273 - accuracy: 0.5300 - val_loss: 0.6905 - val_accuracy: 0.5145\n",
      "Epoch 6/10\n",
      "196/196 [==============================] - 18s 93ms/step - loss: 0.6892 - accuracy: 0.5186 - val_loss: 0.6895 - val_accuracy: 0.5158\n",
      "Epoch 7/10\n",
      "196/196 [==============================] - 18s 92ms/step - loss: 0.6879 - accuracy: 0.5226 - val_loss: 0.6875 - val_accuracy: 0.5269\n",
      "Epoch 8/10\n",
      "196/196 [==============================] - 18s 92ms/step - loss: 0.6791 - accuracy: 0.5630 - val_loss: 0.6528 - val_accuracy: 0.6088\n",
      "Epoch 9/10\n",
      "196/196 [==============================] - 18s 93ms/step - loss: 0.4971 - accuracy: 0.7739 - val_loss: 0.5200 - val_accuracy: 0.7526\n",
      "Epoch 10/10\n",
      "196/196 [==============================] - 18s 93ms/step - loss: 0.4324 - accuracy: 0.8079 - val_loss: 0.4649 - val_accuracy: 0.8076\n"
     ]
    },
    {
     "data": {
      "text/plain": [
       "<tensorflow.python.keras.callbacks.History at 0x27be706aee0>"
      ]
     },
     "execution_count": 31,
     "metadata": {},
     "output_type": "execute_result"
    }
   ],
   "source": [
    "model.fit(X_train, y_train, batch_size=batch_size, epochs=epochs, verbose=1, validation_data=(X_test, y_test))"
   ]
  },
  {
   "cell_type": "code",
   "execution_count": 32,
   "metadata": {},
   "outputs": [
    {
     "data": {
      "image/png": "[encoded data removed]",
      "text/plain": [
       "<Figure size 576x432 with 2 Axes>"
      ]
     },
     "metadata": {
      "needs_background": "light"
     },
     "output_type": "display_data"
    }
   ],
   "source": [
    "plot_model_performance(model, X_train, y_train, X_test, y_test, ['negative', 'positive'])"
   ]
  },
  {
   "cell_type": "markdown",
   "metadata": {},
   "source": [
    "## Long Short Term Memory"
   ]
  },
  {
   "cell_type": "code",
   "execution_count": 33,
   "metadata": {},
   "outputs": [],
   "source": [
    "# parameters\n",
    "epochs = 10\n",
    "batch_size = 128\n",
    "\n",
    "n_lstm = 256\n",
    "drop_lstm = 0.2"
   ]
  },
  {
   "cell_type": "code",
   "execution_count": 34,
   "metadata": {},
   "outputs": [],
   "source": [
    "from keras.models import Sequential\n",
    "from keras.layers import LSTM, Dense\n",
    "from keras.optimizers import Adam\n",
    "\n",
    "model = Sequential()\n",
    "\n",
    "model.add(LSTM(n_lstm, dropout=drop_lstm, activation='relu', input_shape=(None, n_embed_dim)))\n",
    "model.add(Dense(1, activation='sigmoid'))\n",
    "\n",
    "model.compile(loss='binary_crossentropy', optimizer=Adam(lr=0.00001), metrics=['accuracy'])\n"
   ]
  },
  {
   "cell_type": "code",
   "execution_count": 35,
   "metadata": {},
   "outputs": [
    {
     "name": "stdout",
     "output_type": "stream",
     "text": [
      "Model: \"sequential_3\"\n",
      "_________________________________________________________________\n",
      "Layer (type)                 Output Shape              Param #   \n",
      "=================================================================\n",
      "lstm (LSTM)                  (None, 256)               394240    \n",
      "_________________________________________________________________\n",
      "dense_5 (Dense)              (None, 1)                 257       \n",
      "=================================================================\n",
      "Total params: 394,497\n",
      "Trainable params: 394,497\n",
      "Non-trainable params: 0\n",
      "_________________________________________________________________\n"
     ]
    }
   ],
   "source": [
    "model.summary()"
   ]
  },
  {
   "cell_type": "code",
   "execution_count": 36,
   "metadata": {},
   "outputs": [
    {
     "name": "stdout",
     "output_type": "stream",
     "text": [
      "Epoch 1/10\n",
      "196/196 [==============================] - 64s 329ms/step - loss: 0.6926 - accuracy: 0.5279 - val_loss: 0.6921 - val_accuracy: 0.5740\n",
      "Epoch 2/10\n",
      "196/196 [==============================] - 65s 331ms/step - loss: 0.6915 - accuracy: 0.5715 - val_loss: 0.6908 - val_accuracy: 0.5822\n",
      "Epoch 3/10\n",
      "196/196 [==============================] - 66s 335ms/step - loss: 0.6894 - accuracy: 0.5937 - val_loss: 0.6872 - val_accuracy: 0.6269\n",
      "Epoch 4/10\n",
      "196/196 [==============================] - 70s 358ms/step - loss: 2.1940 - accuracy: 0.6652 - val_loss: 0.6418 - val_accuracy: 0.7115\n",
      "Epoch 5/10\n",
      "196/196 [==============================] - 65s 332ms/step - loss: 0.6439 - accuracy: 0.7189 - val_loss: 0.6457 - val_accuracy: 0.7156\n",
      "Epoch 6/10\n",
      "196/196 [==============================] - 65s 330ms/step - loss: 0.6437 - accuracy: 0.7187 - val_loss: 0.6452 - val_accuracy: 0.7161\n",
      "Epoch 7/10\n",
      "196/196 [==============================] - 65s 333ms/step - loss: 0.6433 - accuracy: 0.7178 - val_loss: 0.6447 - val_accuracy: 0.7158\n",
      "Epoch 8/10\n",
      "196/196 [==============================] - 69s 353ms/step - loss: 0.6427 - accuracy: 0.7193 - val_loss: 0.6441 - val_accuracy: 0.7156\n",
      "Epoch 9/10\n",
      "196/196 [==============================] - 67s 341ms/step - loss: 0.6419 - accuracy: 0.7203 - val_loss: 0.6434 - val_accuracy: 0.7159\n",
      "Epoch 10/10\n",
      "196/196 [==============================] - 65s 332ms/step - loss: 0.6411 - accuracy: 0.7196 - val_loss: 0.6426 - val_accuracy: 0.7160\n"
     ]
    },
    {
     "data": {
      "text/plain": [
       "<tensorflow.python.keras.callbacks.History at 0x27be8b80a30>"
      ]
     },
     "execution_count": 36,
     "metadata": {},
     "output_type": "execute_result"
    }
   ],
   "source": [
    "model.fit(X_train, y_train, batch_size=batch_size, epochs=10, verbose=1, validation_data=(X_test, y_test))"
   ]
  },
  {
   "cell_type": "code",
   "execution_count": 37,
   "metadata": {},
   "outputs": [
    {
     "data": {
      "image/png": "[encoded data removed]",
      "text/plain": [
       "<Figure size 576x432 with 2 Axes>"
      ]
     },
     "metadata": {
      "needs_background": "light"
     },
     "output_type": "display_data"
    }
   ],
   "source": [
    "plot_model_performance(model, X_train, y_train, X_test, y_test, ['negative', 'positive'])"
   ]
  },
  {
   "cell_type": "markdown",
   "metadata": {},
   "source": [
    "## Bidirectional LSTM"
   ]
  },
  {
   "cell_type": "code",
   "execution_count": 38,
   "metadata": {},
   "outputs": [],
   "source": [
    "from keras.models import Sequential\n",
    "from keras.layers import LSTM, Dense\n",
    "from keras.layers.wrappers import Bidirectional\n",
    "\n",
    "model = Sequential()\n",
    "\n",
    "model.add(Bidirectional(LSTM(n_rnn, dropout=drop_rnn, activation='relu'), input_shape=(None, n_embed_dim)))\n",
    "model.add(Dense(1, activation='sigmoid'))\n",
    "\n",
    "model.compile(loss='binary_crossentropy', optimizer=Adam(lr=0.00001), metrics=['accuracy'])"
   ]
  },
  {
   "cell_type": "code",
   "execution_count": 39,
   "metadata": {},
   "outputs": [
    {
     "name": "stdout",
     "output_type": "stream",
     "text": [
      "Model: \"sequential_4\"\n",
      "_________________________________________________________________\n",
      "Layer (type)                 Output Shape              Param #   \n",
      "=================================================================\n",
      "bidirectional (Bidirectional (None, 512)               788480    \n",
      "_________________________________________________________________\n",
      "dense_6 (Dense)              (None, 1)                 513       \n",
      "=================================================================\n",
      "Total params: 788,993\n",
      "Trainable params: 788,993\n",
      "Non-trainable params: 0\n",
      "_________________________________________________________________\n"
     ]
    }
   ],
   "source": [
    "model.summary()"
   ]
  },
  {
   "cell_type": "code",
   "execution_count": 40,
   "metadata": {},
   "outputs": [
    {
     "name": "stdout",
     "output_type": "stream",
     "text": [
      "Epoch 1/10\n",
      "196/196 [==============================] - 141s 718ms/step - loss: 0.6921 - accuracy: 0.5396 - val_loss: 0.6911 - val_accuracy: 0.5751\n",
      "Epoch 2/10\n",
      "196/196 [==============================] - 145s 740ms/step - loss: 0.6903 - accuracy: 0.5853 - val_loss: 0.6891 - val_accuracy: 0.6038\n",
      "Epoch 3/10\n",
      "196/196 [==============================] - 145s 739ms/step - loss: 0.6870 - accuracy: 0.6070 - val_loss: 0.6834 - val_accuracy: 0.6237\n",
      "Epoch 4/10\n",
      "196/196 [==============================] - 143s 730ms/step - loss: 1.1165 - accuracy: 0.6472 - val_loss: 0.6467 - val_accuracy: 0.6610\n",
      "Epoch 5/10\n",
      "196/196 [==============================] - 143s 730ms/step - loss: 0.6436 - accuracy: 0.6584 - val_loss: 0.6426 - val_accuracy: 0.6660\n",
      "Epoch 6/10\n",
      "196/196 [==============================] - 144s 736ms/step - loss: 0.6373 - accuracy: 0.6644 - val_loss: 0.6342 - val_accuracy: 0.6764\n",
      "Epoch 7/10\n",
      "196/196 [==============================] - 144s 735ms/step - loss: 0.7112 - accuracy: 0.6924 - val_loss: 0.6319 - val_accuracy: 0.6971\n",
      "Epoch 8/10\n",
      "196/196 [==============================] - 144s 736ms/step - loss: 0.6291 - accuracy: 0.6964 - val_loss: 0.6301 - val_accuracy: 0.6960\n",
      "Epoch 9/10\n",
      "196/196 [==============================] - 152s 774ms/step - loss: 0.6269 - accuracy: 0.6946 - val_loss: 0.6280 - val_accuracy: 0.6929\n",
      "Epoch 10/10\n",
      "196/196 [==============================] - 153s 778ms/step - loss: 0.6245 - accuracy: 0.6904 - val_loss: 0.6254 - val_accuracy: 0.6890\n"
     ]
    },
    {
     "data": {
      "text/plain": [
       "<tensorflow.python.keras.callbacks.History at 0x27be9ded160>"
      ]
     },
     "execution_count": 40,
     "metadata": {},
     "output_type": "execute_result"
    }
   ],
   "source": [
    "model.fit(X_train, y_train, batch_size=batch_size, epochs=epochs, verbose=1, validation_data=(X_test, y_test))"
   ]
  },
  {
   "cell_type": "code",
   "execution_count": 41,
   "metadata": {},
   "outputs": [
    {
     "data": {
      "image/png": "[encoded data removed]",
      "text/plain": [
       "<Figure size 576x432 with 2 Axes>"
      ]
     },
     "metadata": {
      "needs_background": "light"
     },
     "output_type": "display_data"
    }
   ],
   "source": [
    "plot_model_performance(model, X_train, y_train, X_test, y_test, ['negative', 'positive'])"
   ]
  }
 ],
 "metadata": {
  "kernelspec": {
   "display_name": "Python 3",
   "language": "python",
   "name": "python3"
  },
  "language_info": {
   "codemirror_mode": {
    "name": "ipython",
    "version": 3
   },
   "file_extension": ".py",
   "mimetype": "text/x-python",
   "name": "python",
   "nbconvert_exporter": "python",
   "pygments_lexer": "ipython3",
   "version": "3.8.3"
  }
 },
 "nbformat": 4,
 "nbformat_minor": 4
}
