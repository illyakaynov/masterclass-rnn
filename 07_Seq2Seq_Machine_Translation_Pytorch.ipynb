{
 "cells": [
  {
   "cell_type": "markdown",
   "id": "flexible-statement",
   "metadata": {},
   "source": [
    "<div align=\"center\">\n",
    "<a href=\"https://vbti.nl\"><img src=\"https://docs.google.com/uc?export=download&id=1DdCGllL51O5wBuiI0rwygofKx3YIDPHX\" width=\"400\"></a>\n",
    "</div>\n",
    "\n",
    "# Machine Translation with Seq2Seq models.\n",
    "\n",
    "Sequence to sequence models can be also used for machine translation. We only need a dataset where inputs and outputs are the sentences in different languages. For this we can use [this website](https://www.manythings.org/anki/) with various datasets specificly for traning a machine translation model. We are going to use an RNN based encoder-decoder architecture to translate English to [Spanish | French | Dutch].\n",
    "\n",
    "The original paper presents the idea in a very straigthforward manner. In this notebook we will have a look how can we implement a similar architecture and then extend it with the **attention** mechanism.\n",
    "\n",
    "If you would like a more visual explanation visit this [blogpost](https://jalammar.github.io/visualizing-neural-machine-translation-mechanics-of-seq2seq-models-with-attention/).\n",
    "\n",
    "The code presented here is adapted from the [PyTorch tutorial](https://pytorch.org/tutorials/intermediate/seq2seq_translation_tutorial.html).\n",
    "\n",
    "## Importing Libraries"
   ]
  },
  {
   "cell_type": "code",
   "execution_count": 1,
   "id": "secondary-mercury",
   "metadata": {
    "ExecuteTime": {
     "end_time": "2021-03-03T15:03:13.420716Z",
     "start_time": "2021-03-03T15:03:12.955688Z"
    }
   },
   "outputs": [
    {
     "data": {
      "text/plain": [
       "device(type='cuda')"
      ]
     },
     "execution_count": 1,
     "metadata": {},
     "output_type": "execute_result"
    }
   ],
   "source": [
    "from __future__ import unicode_literals, print_function, division\n",
    "from io import open\n",
    "import unicodedata\n",
    "import string\n",
    "import re\n",
    "import random\n",
    "\n",
    "import torch\n",
    "import torch.nn as nn\n",
    "from torch import optim\n",
    "import torch.nn.functional as F\n",
    "\n",
    "from os.path import join\n",
    "\n",
    "device = torch.device(\"cuda\" if torch.cuda.is_available() else \"cpu\")\n",
    "device"
   ]
  },
  {
   "cell_type": "code",
   "execution_count": 2,
   "id": "liquid-volunteer",
   "metadata": {
    "ExecuteTime": {
     "end_time": "2021-03-03T15:03:13.692978Z",
     "start_time": "2021-03-03T15:03:13.421873Z"
    }
   },
   "outputs": [
    {
     "name": "stdout",
     "output_type": "stream",
     "text": [
      "File \"translation.zip\" already exists. Skipping download.\n",
      "Extracted translation.zip content to data\n"
     ]
    }
   ],
   "source": [
    "def download_file(url, path):\n",
    "    \"\"\"\n",
    "    Download file and save it to the defined location\n",
    "    \n",
    "    https://stackoverflow.com/questions/37573483/progress-bar-while-download-file-over-http-with-requests/37573701\n",
    "    \"\"\"\n",
    "    import requests\n",
    "    from tqdm.notebook import tqdm\n",
    "    import os\n",
    "    \n",
    "    \n",
    "    if os.path.exists(path):\n",
    "        print('File \"{}\" already exists. Skipping download.'.format(path))\n",
    "        return\n",
    "    \n",
    "    response = requests.get(url, stream=True)\n",
    "    total_size_in_bytes= int(response.headers.get('content-length', 0))\n",
    "    block_size = 1024 #1 Kibibyte\n",
    "    progress_bar = tqdm(total=total_size_in_bytes, unit='iB', unit_scale=True)\n",
    "    with open(path, 'wb') as file:\n",
    "        for data in response.iter_content(block_size):\n",
    "            progress_bar.update(len(data))\n",
    "            file.write(data)\n",
    "    progress_bar.close()\n",
    "    if total_size_in_bytes != 0 and progress_bar.n != total_size_in_bytes:\n",
    "        print(\"ERROR, something went wrong\")\n",
    "\n",
    "def unzip(path_to_zip, folder_name):\n",
    "    import zipfile\n",
    "    with zipfile.ZipFile(path_to_zip, 'r') as zip_ref:\n",
    "        zip_ref.extractall(folder_name)\n",
    "    print('Extracted {} content to {}'.format(path_to_zip, folder_name))\n",
    "        \n",
    "URL = 'https://github.com/illyakaynov/masterclass_datasets/raw/master/RNN%20and%20Transformers/translation.zip'\n",
    "PATH_TO_ZIP = 'translation.zip'\n",
    "\n",
    "EXTRACT_TO = join('data')\n",
    "DATA_FOLDER = join('data', 'translation')\n",
    "\n",
    "\n",
    "download_file(URL, PATH_TO_ZIP)\n",
    "unzip(PATH_TO_ZIP, EXTRACT_TO)"
   ]
  },
  {
   "cell_type": "markdown",
   "id": "broken-heritage",
   "metadata": {},
   "source": [
    "The dataset is downloaded. Now we need to pre-process it so it is suitable to be digested by a Neural Network. The first thing we need to do is to assign a unique id to every token in our corpus. We are going to reserve special tokens for the **start of the sequence (SOS)** and **end of the sequence (EOS)**. Then for every sentence that we have in the dataset, we are going to call `add_sentence()` method. This will split the sentence by the whitespace into words and then assign a unique id to that token (if it was not encountered before)."
   ]
  },
  {
   "cell_type": "code",
   "execution_count": 3,
   "id": "bound-court",
   "metadata": {
    "ExecuteTime": {
     "end_time": "2021-03-03T15:03:13.699146Z",
     "start_time": "2021-03-03T15:03:13.695037Z"
    }
   },
   "outputs": [],
   "source": [
    "SOS_token = 0\n",
    "EOS_token = 1\n",
    "\n",
    "\n",
    "class Lang:\n",
    "    def __init__(self, name):\n",
    "        self.name = name\n",
    "        self.word2index = {}\n",
    "        self.word2count = {}\n",
    "        self.index2word = {0: \"SOS\", 1: \"EOS\"}\n",
    "        self.n_words = len(self.index2word)  # Count SOS and EOS\n",
    "\n",
    "    def addSentence(self, sentence):\n",
    "        for word in sentence.split(' '):\n",
    "            self.addWord(word)\n",
    "\n",
    "    def addWord(self, word):\n",
    "        if word not in self.word2index:\n",
    "            self.word2index[word] = self.n_words\n",
    "            self.word2count[word] = 1\n",
    "            self.index2word[self.n_words] = word\n",
    "            self.n_words += 1\n",
    "        else:\n",
    "            self.word2count[word] += 1"
   ]
  },
  {
   "cell_type": "markdown",
   "id": "incorporate-geometry",
   "metadata": {},
   "source": [
    "Before we do that lets remove all weird characters. And since our data is in Unicode we will convert it to ASCII. "
   ]
  },
  {
   "cell_type": "code",
   "execution_count": 4,
   "id": "completed-shaft",
   "metadata": {
    "ExecuteTime": {
     "end_time": "2021-03-03T15:03:13.726362Z",
     "start_time": "2021-03-03T15:03:13.700529Z"
    }
   },
   "outputs": [],
   "source": [
    "# Turn a Unicode string to plain ASCII, thanks to\n",
    "# https://stackoverflow.com/a/518232/2809427\n",
    "def unicodeToAscii(s):\n",
    "    return ''.join(\n",
    "        c for c in unicodedata.normalize('NFD', s)\n",
    "        if unicodedata.category(c) != 'Mn'\n",
    "    )\n",
    "\n",
    "# Lowercase, trim, and remove non-letter characters\n",
    "def normalizeString(s):\n",
    "    s = unicodeToAscii(s.lower().strip())\n",
    "    s = re.sub(r\"([.!?])\", r\" \\1\", s)\n",
    "    s = re.sub(r\"[^a-zA-Z.!?]+\", r\" \", s)\n",
    "    return s"
   ]
  },
  {
   "cell_type": "markdown",
   "id": "permanent-contact",
   "metadata": {},
   "source": [
    "Now we will prepare a small function that will read the data for any language that we will put in `data/translation` folder. We will agree that if you want to use some other languages you will need to maintain the following name for the text file: `eng-lang_to_translate.txt`. Also beware of the languages with different alphabet. You would need to adjust next methods then."
   ]
  },
  {
   "cell_type": "code",
   "execution_count": 5,
   "id": "breeding-wellington",
   "metadata": {
    "ExecuteTime": {
     "end_time": "2021-03-03T15:03:13.731694Z",
     "start_time": "2021-03-03T15:03:13.727626Z"
    }
   },
   "outputs": [],
   "source": [
    "def readLangs(lang1, lang2, reverse=False):\n",
    "    print(\"Reading lines...\")\n",
    "\n",
    "    # Read the file and split into lines\n",
    "    lines = open(join(DATA_FOLDER, '{}-{}.txt'.format(lang1, lang2)), encoding='utf-8').\\\n",
    "        read().strip().split('\\n')\n",
    "\n",
    "    # Split every line into pairs and normalize\n",
    "    pairs = [[normalizeString(s) for s in l.split('\\t')[:-1]] for l in lines]\n",
    "\n",
    "    # Reverse pairs, make Lang instances\n",
    "    if reverse:\n",
    "        pairs = [list(reversed(p)) for p in pairs]\n",
    "        input_lang = Lang(lang2)\n",
    "        output_lang = Lang(lang1)\n",
    "    else:\n",
    "        input_lang = Lang(lang1)\n",
    "        output_lang = Lang(lang2)\n",
    "\n",
    "    return input_lang, output_lang, pairs"
   ]
  },
  {
   "cell_type": "markdown",
   "id": "secret-barcelona",
   "metadata": {},
   "source": [
    "Since training RNNs is a very long process, we will restrict the number of samples that we are going to use for training. We will use very simple sentences that starts with \"I am\", \"They are\", etc. We will also filter by the max length."
   ]
  },
  {
   "cell_type": "code",
   "execution_count": 6,
   "id": "occupational-newark",
   "metadata": {
    "ExecuteTime": {
     "end_time": "2021-03-03T15:03:13.736776Z",
     "start_time": "2021-03-03T15:03:13.732865Z"
    }
   },
   "outputs": [],
   "source": [
    "MAX_LENGTH = 10\n",
    "\n",
    "eng_prefixes = (\n",
    "    \"i am \", \"i m \",\n",
    "    \"he is\", \"he s \",\n",
    "    \"she is\", \"she s \",\n",
    "    \"you are\", \"you re \",\n",
    "    \"we are\", \"we re \",\n",
    "    \"they are\", \"they re \"\n",
    ")\n",
    "\n",
    "\n",
    "def filterPair(p):\n",
    "    return len(p[0].split(' ')) < MAX_LENGTH and \\\n",
    "        len(p[1].split(' ')) < MAX_LENGTH\n",
    "#         p[1].startswith(eng_prefixes)\n",
    "\n",
    "\n",
    "def filterPairs(pairs):\n",
    "    return [pair for pair in pairs if filterPair(pair)]"
   ]
  },
  {
   "cell_type": "code",
   "execution_count": 7,
   "id": "significant-password",
   "metadata": {
    "ExecuteTime": {
     "end_time": "2021-03-03T15:03:15.214724Z",
     "start_time": "2021-03-03T15:03:13.737857Z"
    }
   },
   "outputs": [
    {
     "name": "stdout",
     "output_type": "stream",
     "text": [
      "Reading lines...\n",
      "Read 54972 sentence pairs\n",
      "Trimmed to 45904 sentence pairs\n",
      "Counting words...\n",
      "Counted words:\n",
      "nld 10763\n",
      "eng 7783\n",
      "['niet rennen in de klas graag .', 'please don t run in the classroom .']\n"
     ]
    }
   ],
   "source": [
    "def prepareData(lang1, lang2, reverse=False):\n",
    "    input_lang, output_lang, pairs = readLangs(lang1, lang2, reverse)\n",
    "    print(\"Read %s sentence pairs\" % len(pairs))\n",
    "    pairs = filterPairs(pairs)\n",
    "    print(\"Trimmed to %s sentence pairs\" % len(pairs))\n",
    "    print(\"Counting words...\")\n",
    "    for pair in pairs:\n",
    "        input_lang.addSentence(pair[0])\n",
    "        output_lang.addSentence(pair[1])\n",
    "    print(\"Counted words:\")\n",
    "    print(input_lang.name, input_lang.n_words)\n",
    "    print(output_lang.name, output_lang.n_words)\n",
    "    return input_lang, output_lang, pairs\n",
    "\n",
    "\n",
    "input_lang, output_lang, pairs = prepareData('eng', 'nld', True)\n",
    "print(random.choice(pairs))"
   ]
  },
  {
   "cell_type": "markdown",
   "id": "growing-adobe",
   "metadata": {},
   "source": [
    "All in all instead of almost 60000 examples we will have only 4000. This will alow us to see the result a lot quicker. If you would like to train on larger dataset you could adjust the filters above."
   ]
  },
  {
   "cell_type": "markdown",
   "id": "floating-glory",
   "metadata": {},
   "source": [
    "## Modeling\n",
    "We are going to use a envoder-decoder architecture. First of all we will build a Encoder, that will take our inputs in the original language and produce the contextualized embeddings for each word plus hidden state. This hidden state is then will be used as input to the Decoder, which output the translation.\n",
    "\n",
    "### Encoder\n",
    "\n",
    "<img src='https://pytorch.org/tutorials/_images/encoder-network.png'>\n",
    "*Source: https://pytorch.org/tutorials/intermediate/seq2seq_translation_tutorial.html*"
   ]
  },
  {
   "cell_type": "code",
   "execution_count": 8,
   "id": "engaged-costume",
   "metadata": {
    "ExecuteTime": {
     "end_time": "2021-03-03T15:03:15.220094Z",
     "start_time": "2021-03-03T15:03:15.216573Z"
    }
   },
   "outputs": [],
   "source": [
    "class EncoderRNN(nn.Module):\n",
    "    def __init__(self, input_size, hidden_size):\n",
    "        super(EncoderRNN, self).__init__()\n",
    "        self.hidden_size = hidden_size\n",
    "\n",
    "        self.embedding = nn.Embedding(input_size, hidden_size)\n",
    "        self.gru = nn.GRU(hidden_size, hidden_size)\n",
    "\n",
    "    def forward(self, input, hidden):\n",
    "        embedded = self.embedding(input).view(1, 1, -1)\n",
    "        output = embedded\n",
    "        output, hidden = self.gru(output, hidden)\n",
    "        return output, hidden\n",
    "\n",
    "    def initHidden(self):\n",
    "        return torch.zeros(1, 1, self.hidden_size, device=device)"
   ]
  },
  {
   "cell_type": "markdown",
   "id": "sexual-memorial",
   "metadata": {},
   "source": [
    "## Simple Decoder\n",
    "A simple version of the decoder will use only the last output of the Encoder to translate the whole sequence. This last output is sometimes called a **context vector**, since it contain the information about the whole sequence. However, the context vector proves to be a very troublesome bottleneck, since it needs to compress a lot of information into a small vector.\n",
    "\n",
    "<img src='https://pytorch.org/tutorials/_images/decoder-network.png'>\n",
    "*Source: https://pytorch.org/tutorials/intermediate/seq2seq_translation_tutorial.html*"
   ]
  },
  {
   "cell_type": "code",
   "execution_count": 9,
   "id": "adverse-basic",
   "metadata": {
    "ExecuteTime": {
     "end_time": "2021-03-03T15:03:15.233148Z",
     "start_time": "2021-03-03T15:03:15.221345Z"
    }
   },
   "outputs": [],
   "source": [
    "class DecoderRNN(nn.Module):\n",
    "    def __init__(self, hidden_size, output_size):\n",
    "        super(DecoderRNN, self).__init__()\n",
    "        self.hidden_size = hidden_size\n",
    "\n",
    "        self.embedding = nn.Embedding(output_size, hidden_size)\n",
    "        self.gru = nn.GRU(hidden_size, hidden_size)\n",
    "        self.out = nn.Linear(hidden_size, output_size)\n",
    "        self.softmax = nn.LogSoftmax(dim=1)\n",
    "\n",
    "    def forward(self, input, hidden):\n",
    "        output = self.embedding(input).view(1, 1, -1)\n",
    "        output = F.relu(output)\n",
    "        output, hidden = self.gru(output, hidden)\n",
    "        output = self.softmax(self.out(output[0]))\n",
    "        return output, hidden\n",
    "\n",
    "    def initHidden(self):\n",
    "        return torch.zeros(1, 1, self.hidden_size, device=device)"
   ]
  },
  {
   "cell_type": "markdown",
   "id": "aggressive-current",
   "metadata": {},
   "source": [
    "## Attention Decoder\n",
    "We could extend Decoder with attention mechanism where we also take all outputs of the encoder and then \"decide\" what parts of the ouput is \"interesting to attend to\". The attention weights are going to be influenced by the decoder hidden state and the embeddings of the previous input.\n",
    "\n",
    "<img src='https://pytorch.org/tutorials/_images/attention-decoder-network.png'>\n",
    "*Source: https://pytorch.org/tutorials/intermediate/seq2seq_translation_tutorial.html*"
   ]
  },
  {
   "cell_type": "code",
   "execution_count": 10,
   "id": "greater-basketball",
   "metadata": {
    "ExecuteTime": {
     "end_time": "2021-03-03T15:03:15.240366Z",
     "start_time": "2021-03-03T15:03:15.234272Z"
    }
   },
   "outputs": [],
   "source": [
    "class AttnDecoderRNN(nn.Module):\n",
    "    def __init__(self, hidden_size, output_size, dropout_p=0.1, max_length=MAX_LENGTH):\n",
    "        super(AttnDecoderRNN, self).__init__()\n",
    "        self.hidden_size = hidden_size\n",
    "        self.output_size = output_size\n",
    "        self.dropout_p = dropout_p\n",
    "        self.max_length = max_length\n",
    "\n",
    "        self.embedding = nn.Embedding(self.output_size, self.hidden_size)\n",
    "        self.attn = nn.Linear(self.hidden_size * 2, self.max_length)\n",
    "        self.attn_combine = nn.Linear(self.hidden_size * 2, self.hidden_size)\n",
    "        self.dropout = nn.Dropout(self.dropout_p)\n",
    "        self.gru = nn.GRU(self.hidden_size, self.hidden_size)\n",
    "        self.out = nn.Linear(self.hidden_size, self.output_size)\n",
    "\n",
    "    def forward(self, input, hidden, encoder_outputs):\n",
    "        embedded = self.embedding(input).view(1, 1, -1)\n",
    "        embedded = self.dropout(embedded)\n",
    "\n",
    "        attn_weights = F.softmax(\n",
    "            self.attn(torch.cat((embedded[0], hidden[0]), 1)), dim=1)\n",
    "        attn_applied = torch.bmm(attn_weights.unsqueeze(0),\n",
    "                                 encoder_outputs.unsqueeze(0))\n",
    "\n",
    "        output = torch.cat((embedded[0], attn_applied[0]), 1)\n",
    "        output = self.attn_combine(output).unsqueeze(0)\n",
    "\n",
    "        output = F.relu(output)\n",
    "        output, hidden = self.gru(output, hidden)\n",
    "\n",
    "        output = F.log_softmax(self.out(output[0]), dim=1)\n",
    "        return output, hidden, attn_weights\n",
    "\n",
    "    def initHidden(self):\n",
    "        return torch.zeros(1, 1, self.hidden_size, device=device)"
   ]
  },
  {
   "cell_type": "code",
   "execution_count": 11,
   "id": "hindu-video",
   "metadata": {
    "ExecuteTime": {
     "end_time": "2021-03-03T15:03:15.247111Z",
     "start_time": "2021-03-03T15:03:15.241407Z"
    }
   },
   "outputs": [],
   "source": [
    "def indexesFromSentence(lang, sentence):\n",
    "    return [lang.word2index[word] for word in sentence.split(' ')]\n",
    "\n",
    "\n",
    "def tensorFromSentence(lang, sentence):\n",
    "    indexes = indexesFromSentence(lang, sentence)\n",
    "    indexes.append(EOS_token)\n",
    "    return torch.tensor(indexes, dtype=torch.long, device=device).view(-1, 1)\n",
    "\n",
    "\n",
    "def tensorsFromPair(pair):\n",
    "    input_tensor = tensorFromSentence(input_lang, pair[0])\n",
    "    target_tensor = tensorFromSentence(output_lang, pair[1])\n",
    "    return (input_tensor, target_tensor)"
   ]
  },
  {
   "cell_type": "markdown",
   "id": "lyric-forth",
   "metadata": {},
   "source": [
    "## Training\n",
    "The training process will be a little bit more involved than usual. We will need to save all the outputs of the encoder and feed them to the decoder. While we decoding a sequence, we can also cheat a bit. Instead of taking the output of the decoder at the one-step as an input for the following, we can instead use a real value from the ground truth. This will greatly speed up the training since the error generated at the beginning of the sequence will not propagate further. This technique is called [teacher forcing](https://machinelearningmastery.com/teacher-forcing-for-recurrent-neural-networks/). However, since we are not able to do something like this when the output is unknown we still need to teach the decoder to rely on its own outputs. Therefore we will alternate between using the real output or the groundtruth with a 50% probability of choosing one or the other."
   ]
  },
  {
   "cell_type": "code",
   "execution_count": 19,
   "id": "difficult-surgery",
   "metadata": {
    "ExecuteTime": {
     "end_time": "2021-03-03T15:19:40.729316Z",
     "start_time": "2021-03-03T15:19:40.723464Z"
    }
   },
   "outputs": [],
   "source": [
    "teacher_forcing_ratio = 0.5\n",
    "\n",
    "\n",
    "def train(input_tensor, target_tensor, encoder, decoder, encoder_optimizer, decoder_optimizer, criterion, max_length=MAX_LENGTH):\n",
    "    encoder_hidden = encoder.initHidden()\n",
    "\n",
    "    encoder_optimizer.zero_grad()\n",
    "    decoder_optimizer.zero_grad()\n",
    "\n",
    "    input_length = input_tensor.size(0)\n",
    "    target_length = target_tensor.size(0)\n",
    "\n",
    "    encoder_outputs = torch.zeros(max_length, encoder.hidden_size, device=device)\n",
    "\n",
    "    loss = 0\n",
    "\n",
    "    for ei in range(input_length):\n",
    "        encoder_output, encoder_hidden = encoder(\n",
    "            input_tensor[ei], encoder_hidden)\n",
    "        encoder_outputs[ei] = encoder_output[0, 0]\n",
    "\n",
    "    decoder_input = torch.tensor([[SOS_token]], device=device)\n",
    "\n",
    "    decoder_hidden = encoder_hidden\n",
    "\n",
    "    use_teacher_forcing = True if random.random() < teacher_forcing_ratio else False\n",
    "\n",
    "    if use_teacher_forcing:\n",
    "        # Teacher forcing: Feed the target as the next input\n",
    "        for di in range(target_length):\n",
    "            decoder_output, decoder_hidden, decoder_attention = decoder(\n",
    "                decoder_input, decoder_hidden, encoder_outputs)\n",
    "            loss += criterion(decoder_output, target_tensor[di])\n",
    "            decoder_input = target_tensor[di]  # Teacher forcing\n",
    "\n",
    "    else:\n",
    "        # Without teacher forcing: use its own predictions as the next input\n",
    "        for di in range(target_length):\n",
    "            decoder_output, decoder_hidden, decoder_attention = decoder(\n",
    "                decoder_input, decoder_hidden, encoder_outputs)\n",
    "            topv, topi = decoder_output.topk(1)\n",
    "            decoder_input = topi.squeeze().detach()  # detach from history as input\n",
    "\n",
    "            loss += criterion(decoder_output, target_tensor[di])\n",
    "            if decoder_input.item() == EOS_token:\n",
    "                break\n",
    "\n",
    "    loss.backward()\n",
    "\n",
    "    encoder_optimizer.step()\n",
    "    decoder_optimizer.step()\n",
    "\n",
    "    return loss.item() / target_length"
   ]
  },
  {
   "cell_type": "code",
   "execution_count": 20,
   "id": "alive-victory",
   "metadata": {
    "ExecuteTime": {
     "end_time": "2021-03-03T15:19:41.302286Z",
     "start_time": "2021-03-03T15:19:41.299238Z"
    }
   },
   "outputs": [],
   "source": [
    "import time\n",
    "import math\n",
    "\n",
    "\n",
    "def asMinutes(s):\n",
    "    m = math.floor(s / 60)\n",
    "    s -= m * 60\n",
    "    return '%dm %ds' % (m, s)\n",
    "\n",
    "\n",
    "def timeSince(since, percent):\n",
    "    now = time.time()\n",
    "    s = now - since\n",
    "    es = s / (percent)\n",
    "    rs = es - s\n",
    "    return '%s (- %s)' % (asMinutes(s), asMinutes(rs))"
   ]
  },
  {
   "cell_type": "code",
   "execution_count": 21,
   "id": "posted-niagara",
   "metadata": {
    "ExecuteTime": {
     "end_time": "2021-03-03T15:19:41.571768Z",
     "start_time": "2021-03-03T15:19:41.565514Z"
    }
   },
   "outputs": [],
   "source": [
    "def trainIters(encoder, decoder, n_iters, print_every=1000, plot_every=100, learning_rate=0.001):\n",
    "    start = time.time()\n",
    "    plot_losses = []\n",
    "    print_loss_total = 0  # Reset every print_every\n",
    "    plot_loss_total = 0  # Reset every plot_every\n",
    "\n",
    "    encoder_optimizer = optim.SGD(encoder.parameters(), lr=learning_rate)\n",
    "    decoder_optimizer = optim.SGD(decoder.parameters(), lr=learning_rate)\n",
    "    training_pairs = [tensorsFromPair(random.choice(pairs))\n",
    "                      for i in range(n_iters)]\n",
    "    criterion = nn.NLLLoss()\n",
    "\n",
    "    for iter in range(1, n_iters + 1):\n",
    "        training_pair = training_pairs[iter - 1]\n",
    "        input_tensor = training_pair[0]\n",
    "        target_tensor = training_pair[1]\n",
    "\n",
    "        loss = train(input_tensor, target_tensor, encoder,\n",
    "                     decoder, encoder_optimizer, decoder_optimizer, criterion)\n",
    "        print_loss_total += loss\n",
    "        plot_loss_total += loss\n",
    "\n",
    "        if iter % print_every == 0:\n",
    "            print_loss_avg = print_loss_total / print_every\n",
    "            print_loss_total = 0\n",
    "            print('%s (%d %d%%) %.4f' % (timeSince(start, iter / n_iters),\n",
    "                                         iter, iter / n_iters * 100, print_loss_avg))\n",
    "\n",
    "        if iter % plot_every == 0:\n",
    "            plot_loss_avg = plot_loss_total / plot_every\n",
    "            plot_losses.append(plot_loss_avg)\n",
    "            plot_loss_total = 0\n",
    "\n",
    "    showPlot(plot_losses)"
   ]
  },
  {
   "cell_type": "code",
   "execution_count": 22,
   "id": "critical-cleaner",
   "metadata": {
    "ExecuteTime": {
     "end_time": "2021-03-03T15:19:41.801848Z",
     "start_time": "2021-03-03T15:19:41.798828Z"
    }
   },
   "outputs": [],
   "source": [
    "import matplotlib.pyplot as plt\n",
    "import matplotlib.ticker as ticker\n",
    "import numpy as np\n",
    "\n",
    "\n",
    "def showPlot(points):\n",
    "    plt.figure()\n",
    "    fig, ax = plt.subplots()\n",
    "    # this locator puts ticks at regular intervals\n",
    "    loc = ticker.MultipleLocator(base=0.2)\n",
    "    ax.yaxis.set_major_locator(loc)\n",
    "    plt.plot(points)"
   ]
  },
  {
   "cell_type": "code",
   "execution_count": 23,
   "id": "lasting-context",
   "metadata": {
    "ExecuteTime": {
     "end_time": "2021-03-03T15:19:42.024743Z",
     "start_time": "2021-03-03T15:19:42.019681Z"
    }
   },
   "outputs": [],
   "source": [
    "def evaluate(encoder, decoder, sentence, max_length=MAX_LENGTH):\n",
    "    with torch.no_grad():\n",
    "        input_tensor = tensorFromSentence(input_lang, sentence)\n",
    "        input_length = input_tensor.size()[0]\n",
    "        encoder_hidden = encoder.initHidden()\n",
    "\n",
    "        encoder_outputs = torch.zeros(max_length, encoder.hidden_size, device=device)\n",
    "\n",
    "        for ei in range(input_length):\n",
    "            encoder_output, encoder_hidden = encoder(input_tensor[ei],\n",
    "                                                     encoder_hidden)\n",
    "            encoder_outputs[ei] += encoder_output[0, 0]\n",
    "\n",
    "        decoder_input = torch.tensor([[SOS_token]], device=device)  # SOS\n",
    "\n",
    "        decoder_hidden = encoder_hidden\n",
    "\n",
    "        decoded_words = []\n",
    "        decoder_attentions = torch.zeros(max_length, max_length)\n",
    "\n",
    "        for di in range(max_length):\n",
    "            decoder_output, decoder_hidden, decoder_attention = decoder(\n",
    "                decoder_input, decoder_hidden, encoder_outputs)\n",
    "            decoder_attentions[di] = decoder_attention.data\n",
    "            topv, topi = decoder_output.data.topk(1)\n",
    "            if topi.item() == EOS_token:\n",
    "                decoded_words.append('<EOS>')\n",
    "                break\n",
    "            else:\n",
    "                decoded_words.append(output_lang.index2word[topi.item()])\n",
    "\n",
    "            decoder_input = topi.squeeze().detach()\n",
    "\n",
    "        return decoded_words, decoder_attentions[:di + 1]"
   ]
  },
  {
   "cell_type": "code",
   "execution_count": 24,
   "id": "french-rainbow",
   "metadata": {
    "ExecuteTime": {
     "end_time": "2021-03-03T15:19:42.244049Z",
     "start_time": "2021-03-03T15:19:42.240963Z"
    }
   },
   "outputs": [],
   "source": [
    "def evaluateRandomly(encoder, decoder, n=10):\n",
    "    for i in range(n):\n",
    "        pair = random.choice(pairs)\n",
    "        print('Input:', pair[0])\n",
    "        print('Target:', pair[1])\n",
    "        output_words, attentions = evaluate(encoder, decoder, pair[0])\n",
    "        output_sentence = ' '.join(output_words)\n",
    "        print('Prediction:', output_sentence)\n",
    "        print('')"
   ]
  },
  {
   "cell_type": "markdown",
   "id": "attended-sender",
   "metadata": {},
   "source": [
    "## Training"
   ]
  },
  {
   "cell_type": "code",
   "execution_count": 25,
   "id": "unable-disposition",
   "metadata": {
    "ExecuteTime": {
     "end_time": "2021-03-03T18:50:23.358147Z",
     "start_time": "2021-03-03T15:19:43.042371Z"
    }
   },
   "outputs": [
    {
     "name": "stdout",
     "output_type": "stream",
     "text": [
      "2m 6s (- 313m 8s) (5000 0%) 4.7481\n",
      "3m 27s (- 256m 8s) (10000 1%) 4.4344\n",
      "4m 49s (- 236m 37s) (15000 2%) 4.2157\n",
      "6m 12s (- 226m 37s) (20000 2%) 3.9535\n",
      "7m 34s (- 219m 38s) (25000 3%) 3.7844\n",
      "8m 56s (- 214m 36s) (30000 4%) 3.5895\n",
      "10m 19s (- 210m 54s) (35000 4%) 3.5207\n",
      "11m 41s (- 207m 39s) (40000 5%) 3.3829\n",
      "13m 4s (- 204m 57s) (45000 6%) 3.3038\n",
      "14m 27s (- 202m 29s) (50000 6%) 3.2377\n",
      "15m 50s (- 200m 5s) (55000 7%) 3.1133\n",
      "17m 13s (- 198m 10s) (60000 8%) 3.1022\n",
      "18m 36s (- 196m 7s) (65000 8%) 3.0109\n",
      "19m 59s (- 194m 13s) (70000 9%) 2.9697\n",
      "21m 23s (- 192m 29s) (75000 10%) 2.8988\n",
      "22m 46s (- 190m 46s) (80000 10%) 2.8690\n",
      "24m 9s (- 189m 2s) (85000 11%) 2.8079\n",
      "25m 32s (- 187m 18s) (90000 12%) 2.7535\n",
      "26m 55s (- 185m 39s) (95000 12%) 2.7242\n",
      "28m 18s (- 184m 2s) (100000 13%) 2.6900\n",
      "29m 41s (- 182m 25s) (105000 14%) 2.6116\n",
      "31m 4s (- 180m 48s) (110000 14%) 2.5933\n",
      "32m 27s (- 179m 15s) (115000 15%) 2.5630\n",
      "33m 50s (- 177m 39s) (120000 16%) 2.5250\n",
      "35m 13s (- 176m 8s) (125000 16%) 2.5001\n",
      "36m 36s (- 174m 37s) (130000 17%) 2.4437\n",
      "37m 58s (- 173m 1s) (135000 18%) 2.3835\n",
      "39m 21s (- 171m 30s) (140000 18%) 2.3628\n",
      "40m 44s (- 170m 1s) (145000 19%) 2.3339\n",
      "42m 8s (- 168m 34s) (150000 20%) 2.3000\n",
      "43m 31s (- 167m 5s) (155000 20%) 2.2547\n",
      "44m 54s (- 165m 36s) (160000 21%) 2.2544\n",
      "46m 18s (- 164m 10s) (165000 22%) 2.2064\n",
      "47m 42s (- 162m 45s) (170000 22%) 2.1581\n",
      "49m 5s (- 161m 16s) (175000 23%) 2.1366\n",
      "50m 28s (- 159m 51s) (180000 24%) 2.1220\n",
      "51m 51s (- 158m 24s) (185000 24%) 2.0992\n",
      "53m 15s (- 156m 59s) (190000 25%) 2.0461\n",
      "54m 39s (- 155m 35s) (195000 26%) 2.0273\n",
      "56m 3s (- 154m 9s) (200000 26%) 2.0030\n",
      "57m 27s (- 152m 44s) (205000 27%) 2.0013\n",
      "58m 50s (- 151m 19s) (210000 28%) 1.9400\n",
      "60m 14s (- 149m 53s) (215000 28%) 1.9485\n",
      "61m 37s (- 148m 27s) (220000 29%) 1.9095\n",
      "63m 1s (- 147m 2s) (225000 30%) 1.8891\n",
      "64m 25s (- 145m 38s) (230000 30%) 1.8743\n",
      "65m 49s (- 144m 14s) (235000 31%) 1.8572\n",
      "67m 13s (- 142m 50s) (240000 32%) 1.8198\n",
      "68m 37s (- 141m 27s) (245000 32%) 1.8044\n",
      "70m 2s (- 140m 4s) (250000 33%) 1.8000\n",
      "71m 25s (- 138m 39s) (255000 34%) 1.7695\n",
      "72m 49s (- 137m 15s) (260000 34%) 1.7099\n",
      "74m 13s (- 135m 51s) (265000 35%) 1.7258\n",
      "75m 37s (- 134m 26s) (270000 36%) 1.7043\n",
      "77m 1s (- 133m 1s) (275000 36%) 1.6847\n",
      "78m 24s (- 131m 37s) (280000 37%) 1.6493\n",
      "79m 48s (- 130m 12s) (285000 38%) 1.6407\n",
      "81m 11s (- 128m 47s) (290000 38%) 1.6399\n",
      "82m 35s (- 127m 23s) (295000 39%) 1.5972\n",
      "83m 59s (- 125m 59s) (300000 40%) 1.6002\n",
      "85m 23s (- 124m 34s) (305000 40%) 1.5653\n",
      "86m 46s (- 123m 10s) (310000 41%) 1.5579\n",
      "88m 9s (- 121m 44s) (315000 42%) 1.5213\n",
      "89m 33s (- 120m 19s) (320000 42%) 1.5335\n",
      "90m 56s (- 118m 55s) (325000 43%) 1.5140\n",
      "92m 20s (- 117m 31s) (330000 44%) 1.4848\n",
      "93m 44s (- 116m 8s) (335000 44%) 1.4779\n",
      "95m 9s (- 114m 44s) (340000 45%) 1.5023\n",
      "96m 34s (- 113m 22s) (345000 46%) 1.4628\n",
      "97m 59s (- 111m 59s) (350000 46%) 1.4500\n",
      "99m 23s (- 110m 35s) (355000 47%) 1.4297\n",
      "100m 46s (- 109m 10s) (360000 48%) 1.4087\n",
      "102m 10s (- 107m 46s) (365000 48%) 1.3898\n",
      "103m 35s (- 106m 23s) (370000 49%) 1.3705\n",
      "104m 58s (- 104m 58s) (375000 50%) 1.3774\n",
      "106m 21s (- 103m 33s) (380000 50%) 1.3504\n",
      "107m 45s (- 102m 9s) (385000 51%) 1.3374\n",
      "109m 9s (- 100m 45s) (390000 52%) 1.3324\n",
      "110m 33s (- 99m 21s) (395000 52%) 1.3159\n",
      "111m 56s (- 97m 57s) (400000 53%) 1.3050\n",
      "113m 21s (- 96m 33s) (405000 54%) 1.2605\n",
      "114m 44s (- 95m 9s) (410000 54%) 1.3002\n",
      "116m 10s (- 93m 46s) (415000 55%) 1.2907\n",
      "117m 33s (- 92m 22s) (420000 56%) 1.2569\n",
      "118m 58s (- 90m 58s) (425000 56%) 1.2377\n",
      "120m 22s (- 89m 35s) (430000 57%) 1.2456\n",
      "121m 47s (- 88m 11s) (435000 57%) 1.2344\n",
      "123m 11s (- 86m 47s) (440000 58%) 1.1997\n",
      "124m 35s (- 85m 23s) (445000 59%) 1.1964\n",
      "126m 0s (- 84m 0s) (450000 60%) 1.1997\n",
      "127m 24s (- 82m 36s) (455000 60%) 1.1670\n",
      "128m 50s (- 81m 13s) (460000 61%) 1.1698\n",
      "130m 14s (- 79m 49s) (465000 62%) 1.1426\n",
      "131m 39s (- 78m 26s) (470000 62%) 1.1676\n",
      "133m 4s (- 77m 2s) (475000 63%) 1.1263\n",
      "134m 28s (- 75m 38s) (480000 64%) 1.1276\n",
      "135m 53s (- 74m 15s) (485000 64%) 1.0824\n",
      "137m 17s (- 72m 50s) (490000 65%) 1.0962\n",
      "138m 42s (- 71m 27s) (495000 66%) 1.0864\n",
      "140m 6s (- 70m 3s) (500000 66%) 1.0919\n",
      "141m 30s (- 68m 39s) (505000 67%) 1.0454\n",
      "142m 54s (- 67m 15s) (510000 68%) 1.0309\n",
      "144m 19s (- 65m 51s) (515000 68%) 1.0461\n",
      "145m 43s (- 64m 27s) (520000 69%) 1.0648\n",
      "147m 8s (- 63m 3s) (525000 70%) 0.9962\n",
      "148m 32s (- 61m 39s) (530000 70%) 1.0010\n",
      "149m 56s (- 60m 15s) (535000 71%) 1.0121\n",
      "151m 21s (- 58m 51s) (540000 72%) 0.9927\n",
      "152m 45s (- 57m 27s) (545000 72%) 0.9915\n",
      "154m 10s (- 56m 3s) (550000 73%) 0.9579\n",
      "155m 34s (- 54m 39s) (555000 74%) 0.9739\n",
      "156m 59s (- 53m 16s) (560000 74%) 0.9351\n",
      "158m 24s (- 51m 52s) (565000 75%) 0.9629\n",
      "159m 49s (- 50m 28s) (570000 76%) 0.9164\n",
      "161m 13s (- 49m 4s) (575000 76%) 0.9325\n",
      "162m 38s (- 47m 40s) (580000 77%) 0.9235\n",
      "164m 2s (- 46m 16s) (585000 78%) 0.9381\n",
      "165m 27s (- 44m 52s) (590000 78%) 0.8916\n",
      "166m 52s (- 43m 28s) (595000 79%) 0.9026\n",
      "168m 16s (- 42m 4s) (600000 80%) 0.8771\n",
      "169m 41s (- 40m 40s) (605000 80%) 0.8927\n",
      "171m 6s (- 39m 16s) (610000 81%) 0.8781\n",
      "172m 30s (- 37m 52s) (615000 82%) 0.8477\n",
      "173m 55s (- 36m 28s) (620000 82%) 0.8734\n",
      "175m 20s (- 35m 4s) (625000 83%) 0.8537\n",
      "176m 46s (- 33m 40s) (630000 84%) 0.8394\n",
      "178m 11s (- 32m 16s) (635000 84%) 0.8481\n",
      "179m 35s (- 30m 51s) (640000 85%) 0.8347\n",
      "180m 59s (- 29m 27s) (645000 86%) 0.8135\n",
      "182m 24s (- 28m 3s) (650000 86%) 0.8290\n",
      "183m 48s (- 26m 39s) (655000 87%) 0.8011\n",
      "185m 12s (- 25m 15s) (660000 88%) 0.8004\n",
      "186m 36s (- 23m 51s) (665000 88%) 0.7990\n",
      "188m 1s (- 22m 27s) (670000 89%) 0.7889\n",
      "189m 26s (- 21m 2s) (675000 90%) 0.7520\n",
      "190m 51s (- 19m 38s) (680000 90%) 0.7650\n",
      "192m 15s (- 18m 14s) (685000 91%) 0.7613\n",
      "193m 39s (- 16m 50s) (690000 92%) 0.7374\n",
      "195m 4s (- 15m 26s) (695000 92%) 0.7435\n",
      "196m 29s (- 14m 2s) (700000 93%) 0.7300\n",
      "197m 54s (- 12m 37s) (705000 94%) 0.7297\n",
      "199m 19s (- 11m 13s) (710000 94%) 0.7266\n",
      "200m 45s (- 9m 49s) (715000 95%) 0.7333\n",
      "202m 10s (- 8m 25s) (720000 96%) 0.7096\n",
      "203m 34s (- 7m 1s) (725000 96%) 0.7014\n",
      "204m 59s (- 5m 36s) (730000 97%) 0.7054\n",
      "206m 23s (- 4m 12s) (735000 98%) 0.6902\n",
      "207m 48s (- 2m 48s) (740000 98%) 0.6939\n",
      "209m 12s (- 1m 24s) (745000 99%) 0.6949\n",
      "210m 37s (- 0m 0s) (750000 100%) 0.6717\n"
     ]
    },
    {
     "data": {
      "text/plain": [
       "<Figure size 432x288 with 0 Axes>"
      ]
     },
     "metadata": {},
     "output_type": "display_data"
    },
    {
     "data": {
      "image/png": "[encoded data removed]",
      "text/plain": [
       "<Figure size 432x288 with 1 Axes>"
      ]
     },
     "metadata": {
      "needs_background": "light"
     },
     "output_type": "display_data"
    }
   ],
   "source": [
    "hidden_size = 512\n",
    "encoder1 = EncoderRNN(input_lang.n_words, hidden_size).to(device)\n",
    "attn_decoder1 = AttnDecoderRNN(hidden_size, output_lang.n_words, dropout_p=0.1).to(device)\n",
    "\n",
    "trainIters(encoder1, attn_decoder1, 750000, print_every=5000)"
   ]
  },
  {
   "cell_type": "code",
   "execution_count": 29,
   "id": "liquid-module",
   "metadata": {
    "ExecuteTime": {
     "end_time": "2021-03-04T10:54:28.589457Z",
     "start_time": "2021-03-04T10:54:28.497591Z"
    }
   },
   "outputs": [
    {
     "name": "stdout",
     "output_type": "stream",
     "text": [
      "Input: waarschijnlijk heeft tom dit gedaan .\n",
      "Target: tom probably did this .\n",
      "Prediction: tom probably done this . <EOS>\n",
      "\n",
      "Input: er is geen zuurstof op de maan .\n",
      "Target: there s no oxygen on the moon .\n",
      "Prediction: there s no oxygen on the moon . <EOS>\n",
      "\n",
      "Input: ik at jullie aardbeien .\n",
      "Target: i ate your strawberries .\n",
      "Prediction: i ate your strawberries . <EOS>\n",
      "\n",
      "Input: dat doe je maar beter niet .\n",
      "Target: you d best not do that .\n",
      "Prediction: you d better do not do . <EOS>\n",
      "\n",
      "Input: je hebt de wet gebroken .\n",
      "Target: you broke the law .\n",
      "Prediction: you broke the law . <EOS>\n",
      "\n",
      "Input: de stad was verlaten door haar inwoners .\n",
      "Target: the town was deserted by its inhabitants .\n",
      "Prediction: the town was deserted by its inhabitants . <EOS>\n",
      "\n",
      "Input: hij studeert engels maar hij studeert ook duits .\n",
      "Target: he studies english but he also studies german .\n",
      "Prediction: he studies english but he also also german . <EOS>\n",
      "\n",
      "Input: dolfijnen en walvissen zijn geen vissen .\n",
      "Target: dolphins and whales are not fish .\n",
      "Prediction: mom and and aren not a . . <EOS>\n",
      "\n",
      "Input: we bespreken deze kwestie later .\n",
      "Target: we will talk over the matter later .\n",
      "Prediction: we will talk over this later . <EOS>\n",
      "\n",
      "Input: zij kunnen u niet tegenhouden .\n",
      "Target: they can t stop you .\n",
      "Prediction: they can t keep you . <EOS>\n",
      "\n"
     ]
    }
   ],
   "source": [
    "evaluateRandomly(encoder1, attn_decoder1)"
   ]
  },
  {
   "cell_type": "markdown",
   "id": "champion-dependence",
   "metadata": {},
   "source": [
    "## Visualizing Attention\n",
    "We can also visualize the attention matrix for each translated sequence."
   ]
  },
  {
   "cell_type": "code",
   "execution_count": 30,
   "id": "fitting-midnight",
   "metadata": {
    "ExecuteTime": {
     "end_time": "2021-03-04T10:54:57.750415Z",
     "start_time": "2021-03-04T10:54:57.618702Z"
    }
   },
   "outputs": [
    {
     "data": {
      "text/plain": [
       "<matplotlib.image.AxesImage at 0x7fad6a464a00>"
      ]
     },
     "execution_count": 30,
     "metadata": {},
     "output_type": "execute_result"
    },
    {
     "data": {
      "image/png": "[encoded data removed]",
      "text/plain": [
       "<Figure size 411.429x288 with 1 Axes>"
      ]
     },
     "metadata": {
      "needs_background": "light"
     },
     "output_type": "display_data"
    }
   ],
   "source": [
    "%matplotlib inline\n",
    "output_words, attentions = evaluate(\n",
    "    encoder1, attn_decoder1, normalizeString(\"ik ben nu piano aan het spelen.\"))\n",
    "plt.matshow(attentions.numpy())"
   ]
  },
  {
   "cell_type": "code",
   "execution_count": 40,
   "id": "circular-quest",
   "metadata": {
    "ExecuteTime": {
     "end_time": "2021-03-04T11:13:36.222263Z",
     "start_time": "2021-03-04T11:13:35.394272Z"
    }
   },
   "outputs": [
    {
     "name": "stdout",
     "output_type": "stream",
     "text": [
      "input = ik ben nu piano aan het spelen .\n",
      "output = i m playing piano now . <EOS>\n"
     ]
    },
    {
     "name": "stderr",
     "output_type": "stream",
     "text": [
      "<ipython-input-40-65ac1bf8f37a>:9: UserWarning: FixedFormatter should only be used together with FixedLocator\n",
      "  ax.set_xticklabels([''] + input_sentence.split(' ') +\n",
      "<ipython-input-40-65ac1bf8f37a>:11: UserWarning: FixedFormatter should only be used together with FixedLocator\n",
      "  ax.set_yticklabels([''] + output_words)\n"
     ]
    },
    {
     "data": {
      "image/png": "[encoded data removed]",
      "text/plain": [
       "<Figure size 432x288 with 2 Axes>"
      ]
     },
     "metadata": {
      "needs_background": "light"
     },
     "output_type": "display_data"
    },
    {
     "name": "stdout",
     "output_type": "stream",
     "text": [
      "input = ik ben bezig .\n",
      "output = i m busy . <EOS>\n"
     ]
    },
    {
     "data": {
      "image/png": "[encoded data removed]",
      "text/plain": [
       "<Figure size 432x288 with 2 Axes>"
      ]
     },
     "metadata": {
      "needs_background": "light"
     },
     "output_type": "display_data"
    },
    {
     "name": "stdout",
     "output_type": "stream",
     "text": [
      "input = ik ben uw voortdurend geklaag moe .\n",
      "output = i m absolutely your favorite won t . <EOS>\n"
     ]
    },
    {
     "data": {
      "image/png": "[encoded data removed]",
      "text/plain": [
       "<Figure size 432x288 with 2 Axes>"
      ]
     },
     "metadata": {
      "needs_background": "light"
     },
     "output_type": "display_data"
    },
    {
     "name": "stdout",
     "output_type": "stream",
     "text": [
      "input = waarschijnlijk slaapt hij .\n",
      "output = he s probably sleeping . <EOS>\n"
     ]
    },
    {
     "data": {
      "image/png": "[encoded data removed]",
      "text/plain": [
       "<Figure size 432x288 with 2 Axes>"
      ]
     },
     "metadata": {
      "needs_background": "light"
     },
     "output_type": "display_data"
    },
    {
     "name": "stdout",
     "output_type": "stream",
     "text": [
      "input = gisteren speelde ik piano maar nu ik ga .\n",
      "output = i i played tennis but i m going now .\n"
     ]
    },
    {
     "data": {
      "image/png": "[encoded data removed]",
      "text/plain": [
       "<Figure size 432x288 with 2 Axes>"
      ]
     },
     "metadata": {
      "needs_background": "light"
     },
     "output_type": "display_data"
    }
   ],
   "source": [
    "def showAttention(input_sentence, output_words, attentions):\n",
    "    # Set up figure with colorbar\n",
    "    fig = plt.figure()\n",
    "    ax = fig.add_subplot(111)\n",
    "    cax = ax.matshow(attentions.numpy(), cmap='bone')\n",
    "    fig.colorbar(cax)\n",
    "\n",
    "    # Set up axes\n",
    "    ax.set_xticklabels([''] + input_sentence.split(' ') +\n",
    "                       ['<EOS>'], rotation=90)\n",
    "    ax.set_yticklabels([''] + output_words)\n",
    "\n",
    "    # Show label at every tick\n",
    "    ax.xaxis.set_major_locator(ticker.MultipleLocator(1))\n",
    "    ax.yaxis.set_major_locator(ticker.MultipleLocator(1))\n",
    "\n",
    "    plt.show()\n",
    "\n",
    "\n",
    "def evaluateAndShowAttention(input_sentence):\n",
    "    input_sequence = normalizeString(input_sentence)\n",
    "    output_words, attentions = evaluate(\n",
    "        encoder1, attn_decoder1, input_sentence)\n",
    "    print('input =', input_sentence)\n",
    "    print('output =', ' '.join(output_words))\n",
    "    showAttention(input_sentence, output_words, attentions)\n",
    "\n",
    "\n",
    "evaluateAndShowAttention(\"ik ben nu piano aan het spelen .\")\n",
    "    \n",
    "evaluateAndShowAttention(\"ik ben bezig .\")\n",
    "\n",
    "evaluateAndShowAttention(\"ik ben uw voortdurend geklaag moe .\")\n",
    "\n",
    "evaluateAndShowAttention(\"waarschijnlijk slaapt hij .\")\n",
    "\n",
    "evaluateAndShowAttention(\"gisteren speelde ik piano maar nu ik ga .\")"
   ]
  },
  {
   "cell_type": "code",
   "execution_count": 45,
   "id": "communist-vanilla",
   "metadata": {
    "ExecuteTime": {
     "end_time": "2021-03-07T10:08:32.383710Z",
     "start_time": "2021-03-07T10:08:32.199806Z"
    }
   },
   "outputs": [],
   "source": [
    "import os\n",
    "from os.path import join\n",
    "MODEL_FOLDER = 'language_model_nld_to_eng'\n",
    "os.makedirs(MODEL_FOLDER, exist_ok=True)\n",
    "\n",
    "torch.save(encoder1.state_dict(), join(MODEL_FOLDER, 'encoder.bin'))\n",
    "torch.save(attn_decoder1.state_dict(), join(MODEL_FOLDER,'decoder.bin'))"
   ]
  },
  {
   "cell_type": "markdown",
   "id": "grave-denmark",
   "metadata": {},
   "source": [
    "## Loading Pre-trained Model"
   ]
  },
  {
   "cell_type": "code",
   "execution_count": 58,
   "id": "intimate-bahrain",
   "metadata": {
    "ExecuteTime": {
     "end_time": "2021-03-07T10:26:01.065119Z",
     "start_time": "2021-03-07T10:25:52.536042Z"
    }
   },
   "outputs": [
    {
     "data": {
      "application/vnd.jupyter.widget-view+json": {
       "model_id": "b4c4037bf08e4030b65a1127c42d186a",
       "version_major": 2,
       "version_minor": 0
      },
      "text/plain": [
       "  0%|          | 0.00/63.6M [00:00<?, ?iB/s]"
      ]
     },
     "metadata": {},
     "output_type": "display_data"
    },
    {
     "name": "stdout",
     "output_type": "stream",
     "text": [
      "Extracted language_model_nld_to_eng.zip content to ./\n"
     ]
    }
   ],
   "source": [
    "download_file(\n",
    "    'https://github.com/illyakaynov/masterclass_datasets/raw/master/RNN%20and%20Transformers/language_model_nld_to_eng.zip',\n",
    "    'language_model_nld_to_eng.zip'\n",
    ")\n",
    "    \n",
    "unzip('language_model_nld_to_eng.zip', './')"
   ]
  },
  {
   "cell_type": "code",
   "execution_count": 59,
   "id": "grave-general",
   "metadata": {
    "ExecuteTime": {
     "end_time": "2021-03-07T10:26:51.770355Z",
     "start_time": "2021-03-07T10:26:51.606327Z"
    }
   },
   "outputs": [
    {
     "data": {
      "text/plain": [
       "<All keys matched successfully>"
      ]
     },
     "execution_count": 59,
     "metadata": {},
     "output_type": "execute_result"
    }
   ],
   "source": [
    "MODEL_FOLDER = 'language_model_nld_to_eng'\n",
    "\n",
    "hidden_size = 512\n",
    "test_encoder = EncoderRNN(input_lang.n_words, hidden_size).to(device)\n",
    "test_decoder = AttnDecoderRNN(hidden_size, output_lang.n_words, dropout_p=0.1).to(device)\n",
    "\n",
    "test_encoder.load_state_dict(torch.load(join(MODEL_FOLDER, 'encoder.bin')))\n",
    "test_decoder.load_state_dict(torch.load(join(MODEL_FOLDER, 'decoder.bin')))"
   ]
  },
  {
   "cell_type": "code",
   "execution_count": 60,
   "id": "short-princeton",
   "metadata": {
    "ExecuteTime": {
     "end_time": "2021-03-07T10:26:53.235733Z",
     "start_time": "2021-03-07T10:26:53.158026Z"
    },
    "scrolled": true
   },
   "outputs": [
    {
     "name": "stdout",
     "output_type": "stream",
     "text": [
      "Input: toms voorspelling was juist .\n",
      "Target: tom s prediction was correct .\n",
      "Prediction: tom s house was right away . <EOS>\n",
      "\n",
      "Input: ik heb geen tijd om ziek te zijn .\n",
      "Target: i don t have time to be sick .\n",
      "Prediction: i don t have time to be sick . <EOS>\n",
      "\n",
      "Input: ik heb een balpen nodig en papier .\n",
      "Target: i need a pen and paper .\n",
      "Prediction: i need a bag and paper . <EOS>\n",
      "\n",
      "Input: dat heb ik net verkocht .\n",
      "Target: i just sold that .\n",
      "Prediction: i just got that . <EOS>\n",
      "\n",
      "Input: tom wilde gefrituurde rijst eten .\n",
      "Target: tom wanted to eat fried rice .\n",
      "Prediction: tom wanted to eat rice rice . <EOS>\n",
      "\n",
      "Input: dit is alarmerend .\n",
      "Target: this is alarming .\n",
      "Prediction: this is awkward . <EOS>\n",
      "\n",
      "Input: jullie moeten gaan .\n",
      "Target: you guys have to go .\n",
      "Prediction: you guys go to . <EOS>\n",
      "\n",
      "Input: hij spreekt niet alleen spaans maar ook frans .\n",
      "Target: he speaks not only spanish but also french .\n",
      "Prediction: he speaks not only spanish but also french . <EOS>\n",
      "\n",
      "Input: er lacht niemand .\n",
      "Target: no one is laughing .\n",
      "Prediction: nobody one is laughing . <EOS>\n",
      "\n",
      "Input: tom heeft het ook niet druk .\n",
      "Target: tom isn t busy either .\n",
      "Prediction: tom didn t busy either . <EOS>\n",
      "\n"
     ]
    }
   ],
   "source": [
    "evaluateRandomly(test_encoder, test_decoder)"
   ]
  },
  {
   "cell_type": "markdown",
   "id": "institutional-moscow",
   "metadata": {},
   "source": [
    "## Next Steps\n",
    "- Retrain the Network on a larger dataset.\n",
    "- Use different language.\n",
    "- Adjust the network architecture to improve performance."
   ]
  }
 ],
 "metadata": {
  "kernelspec": {
   "display_name": "Python 3",
   "language": "python",
   "name": "python3"
  },
  "language_info": {
   "codemirror_mode": {
    "name": "ipython",
    "version": 3
   },
   "file_extension": ".py",
   "mimetype": "text/x-python",
   "name": "python",
   "nbconvert_exporter": "python",
   "pygments_lexer": "ipython3",
   "version": "3.6.9"
  },
  "toc": {
   "base_numbering": 1,
   "nav_menu": {},
   "number_sections": true,
   "sideBar": true,
   "skip_h1_title": false,
   "title_cell": "Table of Contents",
   "title_sidebar": "Contents",
   "toc_cell": false,
   "toc_position": {},
   "toc_section_display": true,
   "toc_window_display": false
  },
  "varInspector": {
   "cols": {
    "lenName": 16,
    "lenType": 16,
    "lenVar": 40
   },
   "kernels_config": {
    "python": {
     "delete_cmd_postfix": "",
     "delete_cmd_prefix": "del ",
     "library": "var_list.py",
     "varRefreshCmd": "print(var_dic_list())"
    },
    "r": {
     "delete_cmd_postfix": ") ",
     "delete_cmd_prefix": "rm(",
     "library": "var_list.r",
     "varRefreshCmd": "cat(var_dic_list()) "
    }
   },
   "types_to_exclude": [
    "module",
    "function",
    "builtin_function_or_method",
    "instance",
    "_Feature"
   ],
   "window_display": false
  }
 },
 "nbformat": 4,
 "nbformat_minor": 5
}
